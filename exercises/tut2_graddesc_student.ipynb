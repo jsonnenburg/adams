{
 "cells": [
  {
   "cell_type": "markdown",
   "id": "cd02e0c5",
   "metadata": {},
   "source": [
    "## Exercise Neural Network Training:\n",
    "The exercise is meant to build some understanding about how neural networks learn relationships between features x and a \n",
    "target y. The exercise deals with gradient descent. In this exercises we assume that students are familiar with the general form of neural networks. Hence, the architecture of neural networks is not part of the exercises. We recommend going through \"Ex04-NN-Primer-part1.ipynb\". It covers the architecture of neural networks as well as the learning procedure, which is part of this exercise.    \n",
    "\n",
    "\"Ex04-NN-Primer-part1.ipynb\" treats topics like gradient descent for neural networks of general architecture. For this exercise, we restrict the architecture of the considered neural networks to the form\n",
    "$f(x)=\\beta\\cdot sigmoid(x)$. This corresponds to a very simple neural network with linear output function, sigmoid activation, 1 hidden layer and bias (constants) forced to zero. By considering this simple neural network, the code becomes simpler and you can (hopefully) gain a better intuition of neural networks learning procedures.  \n",
    "\n",
    "In the tuturial to this exercise, we will go through further exercises covering back propagation and stochastic gradient descent."
   ]
  },
  {
   "cell_type": "code",
   "execution_count": 11,
   "id": "27cd65ac",
   "metadata": {},
   "outputs": [],
   "source": [
    "## required libraries\n",
    "import numpy as np\n",
    "import matplotlib.pyplot as plt"
   ]
  },
  {
   "cell_type": "code",
   "execution_count": 12,
   "id": "3b724d6b",
   "metadata": {},
   "outputs": [],
   "source": [
    "## define sigmoid function\n",
    "def sigmoid(x):\n",
    "    return 1 / (1 + np.exp(-x))\n",
    "\n",
    "## create data\n",
    "x = np.array(range(-10,10))\n",
    "y = 2*sigmoid(x)"
   ]
  },
  {
   "cell_type": "markdown",
   "id": "cebc36f5",
   "metadata": {},
   "source": [
    "# Exercise:\n",
    "Our goal is to find the coefficient beta, such that the function $f(x)=\\beta\\cdot sigmoid(x)$ fits the data best \n",
    "(according to the mean squared error).  \n",
    "Your task is to implement gradient descent in order to find beta. This means in detail: <br />\n",
    "a) You need to calculate the derivative of the loss function $L(Y,f(X))=\\frac{1}{n}\\sum_{i}(y_{i}-f(x_{i}))^{2}$ in $\\beta$. For simplicity we provide an impementation\n",
    "of this loss function called \"grad_beta\""
   ]
  },
  {
   "cell_type": "code",
   "execution_count": 13,
   "id": "0d877efa",
   "metadata": {},
   "outputs": [],
   "source": [
    "def func_f(beta, x):\n",
    "    return beta*sigmoid(x)\n",
    "\n",
    "def grad_beta(beta, y, x): \n",
    "    return np.mean(-2*(y-func_f(beta, x))*sigmoid(x))"
   ]
  },
  {
   "cell_type": "markdown",
   "id": "9d8fc3ac",
   "metadata": {},
   "source": [
    "b) Implement a function grad_desc(beta_ini, lrate, n_epochs), with an initial value of beta,\n",
    "the learning rate and the number of iterations (called epochs) as parameters. The function should find the $\\beta$ leading to the minimum loss."
   ]
  },
  {
   "cell_type": "code",
   "execution_count": 21,
   "id": "2748e2f7",
   "metadata": {},
   "outputs": [],
   "source": [
    "def grad_desc(beta_ini, lrate, n_epochs):\n",
    "    '''find beta leading to the minimum loss'''\n",
    "    beta = beta_ini\n",
    "    \n",
    "    n = 0\n",
    "    while n < n_epochs:\n",
    "        gBeta = grad_beta(beta, y, x) # calculate gradient\n",
    "        beta -= lrate*gBeta # gradient descent\n",
    "        n += 1\n",
    "        \n",
    "    return beta"
   ]
  },
  {
   "cell_type": "markdown",
   "id": "e01de131",
   "metadata": {},
   "source": [
    "c) Apply your function for beta_ini=0, n_epochs=20 and some learning rates of your choice.\n",
    "Which is the best learning rate? What happens for particularly high or low learning rates?"
   ]
  },
  {
   "cell_type": "code",
   "execution_count": 22,
   "id": "2725b759",
   "metadata": {},
   "outputs": [],
   "source": [
    "beta1 = grad_desc(0, 0.1, 20)"
   ]
  },
  {
   "cell_type": "code",
   "execution_count": 23,
   "metadata": {},
   "outputs": [
    {
     "data": {
      "text/plain": [
       "1.6615938383488589"
      ]
     },
     "execution_count": 23,
     "metadata": {},
     "output_type": "execute_result"
    }
   ],
   "source": [
    "beta1"
   ]
  },
  {
   "cell_type": "code",
   "execution_count": 30,
   "metadata": {},
   "outputs": [],
   "source": [
    "learning_rates = [0.0001, 0.001, 0.01, 0.025, 0.05, 0.1, 0.15, 0.2, 0.25, 0.3, 0.4, 0.5]"
   ]
  },
  {
   "cell_type": "code",
   "execution_count": 38,
   "metadata": {},
   "outputs": [],
   "source": [
    "betas = list()"
   ]
  },
  {
   "cell_type": "code",
   "execution_count": 39,
   "metadata": {},
   "outputs": [],
   "source": [
    "for lr in learning_rates:\n",
    "    betas.append(grad_desc(0, lr, 20))"
   ]
  },
  {
   "cell_type": "code",
   "execution_count": 40,
   "metadata": {},
   "outputs": [
    {
     "data": {
      "text/plain": [
       "[0.0067888554854687215,\n",
       " 0.06688605024658403,\n",
       " 0.5785348243411792,\n",
       " 1.1529781098894856,\n",
       " 1.6479792283221757,\n",
       " 1.942740634878271,\n",
       " 1.9914571144843094,\n",
       " 1.998840972732177,\n",
       " 1.999858429294132,\n",
       " 1.9999846120567901,\n",
       " 1.999999879041494,\n",
       " 1.999999999513002]"
      ]
     },
     "execution_count": 40,
     "metadata": {},
     "output_type": "execute_result"
    }
   ],
   "source": [
    "betas"
   ]
  },
  {
   "cell_type": "code",
   "execution_count": 41,
   "metadata": {},
   "outputs": [
    {
     "data": {
      "image/png": "[encoded data removed]",
      "text/plain": [
       "<Figure size 432x288 with 1 Axes>"
      ]
     },
     "metadata": {
      "needs_background": "light"
     },
     "output_type": "display_data"
    }
   ],
   "source": [
    "plt.plot(learning_rates, betas)\n",
    "plt.xlabel(\"learning rate\")\n",
    "plt.ylabel(\"beta\")\n",
    "plt.title(\"Beta for specific learning rates\");"
   ]
  }
 ],
 "metadata": {
  "kernelspec": {
   "display_name": "Python 3",
   "language": "python",
   "name": "python3"
  },
  "language_info": {
   "codemirror_mode": {
    "name": "ipython",
    "version": 3
   },
   "file_extension": ".py",
   "mimetype": "text/x-python",
   "name": "python",
   "nbconvert_exporter": "python",
   "pygments_lexer": "ipython3",
   "version": "3.8.13"
  }
 },
 "nbformat": 4,
 "nbformat_minor": 5
}
