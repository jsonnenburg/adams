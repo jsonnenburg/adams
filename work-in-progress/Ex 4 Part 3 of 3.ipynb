{
 "cells": [
  {
   "cell_type": "markdown",
   "metadata": {},
   "source": [
    "# ADAMS Tutorial #4: Neural Networking (NN) Primer\n",
    "## Part 3 of 3\n",
    "\n",
    "This is the final of three notebooks which will cover the foundations of neural networks. Please review the first two notebooks if you haven't yet, as this notebook assumes you understand the first two. In the first notebook, we discussed how the algorithm can be initialized randomly. The second notebook focused on training the network through back propagation. Training is the process in which we update the weights to maximize the fit of our network to training data. Network training is, therefore, equivalent to maximum likelihood estimation in regression analysis. \n",
    "\n",
    "This notebook will explore a different problem that neural networks are well-suited to solve: classification. We will be rewiring the same code form part 2, only this time, our network will classify samples. Differences will be explained as we go.\n",
    "\n",
    "## This notebook's topic: Adapting what we know for a classification network ##\n",
    " 1. Reviewing classification problems\n",
    " 2. Highlighting differences in the algorithm\n",
    " 3. Revising our code to solve a classification problem\n",
    " 4. A cheat sheet for the most basic neural network problems"
   ]
  },
  {
   "cell_type": "code",
   "execution_count": 1,
   "metadata": {},
   "outputs": [],
   "source": [
    "# Import relevant libraries\n",
    "import pandas as pd\n",
    "import matplotlib.pyplot as plt\n",
    "import math\n",
    "import numpy as np\n",
    "range_for_demo = np.linspace(-5, 5, 100)\n",
    "\n",
    "import random\n",
    "random.seed(888)  # set seed for reproducibility\n",
    "np.random.seed(888)\n",
    "\n",
    "from sklearn.datasets import make_blobs\n",
    "from matplotlib import pyplot\n",
    "import pandas as pd\n",
    "import numpy as np"
   ]
  },
  {
   "cell_type": "markdown",
   "metadata": {},
   "source": [
    "# Types of classification problems\n",
    "\n",
    "There are a few types of problems which require us to label the classes of data. Here is a quick summary:\n",
    "\n",
    "**Binary classification** tries to predict which of two options is most likely. For example, will this customer spend money today (yes/no)? Will rain fall today (yes/no)?\n",
    " - Single dummy: binary target coded as a single binary variable representing the probability of an event occurring or label 1 (eg. one variable for purchase, no purchase is inferred as the inverse)\n",
    " - Two-dummy: one dummy is the probability of the non-event/label 0, the second being the probability of the event/label 1 (eg. one variable for no purchase and one variable for purchase)"
   ]
  },
  {
   "cell_type": "code",
   "execution_count": 2,
   "metadata": {},
   "outputs": [],
   "source": [
    "# single dummy approach\n",
    "Y = [1, 0, 1]\n",
    "\n",
    "# two-dummy approach (same information as the single dummy above)\n",
    "Y_0 = [0, 1, 0]\n",
    "Y_1 = [1, 0, 1]  # note that this vector is identical to single dummy"
   ]
  },
  {
   "cell_type": "markdown",
   "metadata": {},
   "source": [
    "**Single label multi-class classification** tries to predict which of 3 or more options are most likely but only ONE class is possible. Eg. Is this image a cat, dog or bird? It is recommended to one-hot encode the target variable.\n",
    "\n",
    "**Multiple label multi-class classification** tries to predict which of 3 or more options are most likely and when multiple classes are possible. Eg. Which of these products will be purchased? It is recommended to one-hot encode the target variable."
   ]
  },
  {
   "cell_type": "markdown",
   "metadata": {},
   "source": [
    "# Differences in NNs for binary classification"
   ]
  },
  {
   "cell_type": "markdown",
   "metadata": {},
   "source": [
    "## Toy Data Generation: Binary Classification\n",
    "\n",
    "We will now need some new data for this example. We are going to generate two variables with conditional impacts on our target variable. There will be two clusters and each variable will have a slightly different mean per cluster. In order to compare this to a real-world example, it would be a situation where we have two distinct groups. In our previous example in the last notebooks on regression, we said that the target could represent the grade on the final exam. This time, we could say that these two groups represented those who passed and didn't pass a test. Again, one of our variables could represent average hours slept per night and the other could be an indicator for if the student completed the assignments in class. What's important here is that we are predicting membership in one of two groups and not a continuous number."
   ]
  },
  {
   "cell_type": "code",
   "execution_count": 2,
   "metadata": {},
   "outputs": [],
   "source": [
    "n = 10000 # generate number of observations\n",
    "k = 2  # number of features\n",
    "\n",
    "XX, Y = make_blobs(n_samples=n, n_features=k, centers=2, random_state=888, cluster_std=1.5)\n",
    "\n",
    "Y = Y.reshape(n,1)"
   ]
  },
  {
   "cell_type": "markdown",
   "metadata": {},
   "source": [
    "## Network architecture\n",
    "For the most part, the network architecture required for binary classification networks is very similar to those required for regression networks. Our input layer has just as many neurons as we have features and we have a hidden layer whose size we can experiment with. We could also experiment with adding more hidden layers. One of the only main differences concerns the size of the output layer. Note that There are specific sizes based on the values of your target variable as explained below."
   ]
  },
  {
   "cell_type": "markdown",
   "metadata": {},
   "source": [
    "### Output layer size\n",
    "For regression problems, we had a constant output layer size of 1 neuron because we were only predicting one number.\n",
    "\n",
    "For **binary classification** problems where the target is coded as a single dummy variable, you will need 1 node in your output layer. If there are two dummy variables for the target (one dummy for class 0 and one dummy for class 1), you will need 2 nodes. In our example, we have coded everything as a single dummy variable."
   ]
  },
  {
   "cell_type": "code",
   "execution_count": 3,
   "metadata": {},
   "outputs": [],
   "source": [
    "# Network architecture:\n",
    "inputLayer_size = 2      # number of features in X, in this case we only have 2\n",
    "hiddenLayer_size = 10    # number of hidden layer nodes\n",
    "outputLayer_size = 1     # number of values to predict, in this case, our target is one vector"
   ]
  },
  {
   "cell_type": "markdown",
   "metadata": {},
   "source": [
    "As before, for the initialization, we will only take the 5th observation in the dataset."
   ]
  },
  {
   "cell_type": "code",
   "execution_count": 4,
   "metadata": {},
   "outputs": [
    {
     "data": {
      "text/plain": [
       "(2, 1)"
      ]
     },
     "execution_count": 4,
     "metadata": {},
     "output_type": "execute_result"
    }
   ],
   "source": [
    "X = np.array(XX[5]).reshape((inputLayer_size, 1))\n",
    "X.shape  # This should be kx1"
   ]
  },
  {
   "cell_type": "code",
   "execution_count": 5,
   "metadata": {},
   "outputs": [
    {
     "data": {
      "text/plain": [
       "(1, 1)"
      ]
     },
     "execution_count": 5,
     "metadata": {},
     "output_type": "execute_result"
    }
   ],
   "source": [
    "y = Y[5].reshape((outputLayer_size, 1))\n",
    "y.shape  # since our target is coded as a single dummy variable, we should see (1, 1) here"
   ]
  },
  {
   "cell_type": "markdown",
   "metadata": {},
   "source": [
    "## Weight initialization\n",
    "As in part 1 and 2, we randomly initialize weights based on the recommendation we received from Glorot and Bengio (2010). The only thing to be careful of as we refit this network for a classification problem is the size of the output layer which we have already discussed."
   ]
  },
  {
   "cell_type": "code",
   "execution_count": 6,
   "metadata": {},
   "outputs": [],
   "source": [
    "limit = np.sqrt(6 / (inputLayer_size + outputLayer_size))  # Recommended weight initialization\n",
    "\n",
    "# Random weight and bias initialization\n",
    "W_0 = np.random.uniform(-limit, limit, (hiddenLayer_size, inputLayer_size))    # input to hidden layer weights\n",
    "W_1 = np.random.uniform(-limit, limit, (outputLayer_size, hiddenLayer_size))  # hidden to output layer weights\n",
    "\n",
    "B_0 = np.ones((hiddenLayer_size,1))  # input to hiden layer biases\n",
    "B_1 = np.ones((outputLayer_size,1))  # hidden to output layer biases"
   ]
  },
  {
   "cell_type": "code",
   "execution_count": 7,
   "metadata": {},
   "outputs": [
    {
     "data": {
      "text/plain": [
       "array([[15.25580764],\n",
       "       [-6.27077088],\n",
       "       [ 6.47240459],\n",
       "       [ 8.81335129],\n",
       "       [-8.51333128]])"
      ]
     },
     "execution_count": 7,
     "metadata": {},
     "output_type": "execute_result"
    }
   ],
   "source": [
    "Z_hidden = np.dot(W_0, X) + B_0\n",
    "Z_hidden[:5]  # these are the first five nodes' input values"
   ]
  },
  {
   "cell_type": "markdown",
   "metadata": {},
   "source": [
    "## Activation functions\n",
    "\n",
    "Remember that you should distinguish your activation functions in two groups:\n",
    "- Hidden layer activations: here you can experiment with any activation function but are encouraged to use the ones that we introduced in part 2.\n",
    "- Final layer activation: this activation needs to suit your output. We mentioned using a linear activation for regression. Below we will discuss good final activations for classification.\n",
    "\n",
    "For the **hidden layer** in our current network, let's take $tanh$ this time. If you are curious about this function and its derivatives, you can find an explanation in part 2."
   ]
  },
  {
   "cell_type": "code",
   "execution_count": 8,
   "metadata": {},
   "outputs": [],
   "source": [
    "# Activation function that we will use in this scenario and its derivative\n",
    "def tanH(x):\n",
    "    return (np.exp(x)-np.exp(-x)) / (np.exp(x)+np.exp(-x))\n",
    "\n",
    "\n",
    "def tanH_derivative(x):\n",
    "    return 1-tanH(x)**2"
   ]
  },
  {
   "cell_type": "code",
   "execution_count": 9,
   "metadata": {},
   "outputs": [
    {
     "data": {
      "text/plain": [
       "array([[ 1.        ],\n",
       "       [-0.99999285],\n",
       "       [ 0.99999522],\n",
       "       [ 0.99999996],\n",
       "       [-0.99999992]])"
      ]
     },
     "execution_count": 9,
     "metadata": {},
     "output_type": "execute_result"
    }
   ],
   "source": [
    "H = tanH(Z_hidden)\n",
    "H[:5]  # these are the first five nodes' output values (after activation)"
   ]
  },
  {
   "cell_type": "markdown",
   "metadata": {},
   "source": [
    "### Final activation functions for classification problems\n",
    "\n",
    "We talked about a few possible activation functions such as linear, ReLU, leaky ReLU, tanh and sigmoid. We can experiment with any of these if they are not in the final layer. However, we need to pay attention to the final layer's activation because it determines the range of values that will be output. "
   ]
  },
  {
   "cell_type": "markdown",
   "metadata": {},
   "source": [
    "#### Sigmoid and binary classification\n",
    "**If your target is a single dummy**, you will need your network to output a value between 0 and 1 as the probability of class 1. The best final activation function for the output layer will be **sigmoid** whose outputs are always squeezed into a probability between 0 and 1. $tanh$ can also be used but note that it ranges between -1 and 1, so you will need to rescale it. If you would like to see a more detailed description of the sigmoid function including its derivation, you can find it in part 2 in this tutorial series."
   ]
  },
  {
   "cell_type": "code",
   "execution_count": 10,
   "metadata": {},
   "outputs": [
    {
     "data": {
      "image/png": "[encoded data removed]",
      "text/plain": [
       "<Figure size 432x288 with 1 Axes>"
      ]
     },
     "metadata": {
      "needs_background": "light"
     },
     "output_type": "display_data"
    }
   ],
   "source": [
    "def sigmoid(x):\n",
    "    return 1 / (1 + np.exp(-x))\n",
    "\n",
    "def sigmoid_derivative(x):\n",
    "    s = sigmoid(x)\n",
    "    return s * (1-s)\n",
    "\n",
    "plt.plot(range_for_demo, sigmoid(range_for_demo), label='f(x)')\n",
    "plt.plot(range_for_demo, sigmoid_derivative(range_for_demo), label=\"f(x)'\")\n",
    "plt.grid(True)\n",
    "plt.xlabel('$x$')\n",
    "plt.ylabel('$f(x)$')\n",
    "plt.legend(loc='best')\n",
    "plt.show()"
   ]
  },
  {
   "cell_type": "markdown",
   "metadata": {},
   "source": [
    "#### Softmax and binary classification\n",
    "\n",
    "**If your target is two dummy variables**, you'll have 2 output neurons. The first neuron outputs the probability of class 0 and the second outputs the probability of class 1. We want the sum of the probability of both classes to be 1. In this case, we have a final activation function called **softmax** which will make sure the sum of probabilities in the output to be 1.\n",
    "\n",
    "$$ \\text{softmax}(x) = \\frac{e^{x_i}}{\\sum_{j=1} e^{x_j} } $$"
   ]
  },
  {
   "cell_type": "markdown",
   "metadata": {},
   "source": [
    "#### Understanding the softmax output for derivation\n",
    "\n",
    "This function takes a inputs $X$ as a vector and produces a vector of probabilities which sum to 1. Since we are predicting for classes, this vector will have the dimension of $ n\\_class * 1$.\n",
    "\n",
    "So, in essence, $\\text{softmax}(x)$ does the following:\n",
    "$$ \\text{softmax} \\bigg( \\begin{bmatrix}  x_{1} \\\\  x_{2}\\\\   \\vdots\\\\ x_{n}\\\\ \\end {bmatrix} \\bigg) \\rightarrow\n",
    "\\begin{bmatrix}  s_{1} \\\\  s_{2} \\\\  \\vdots \\\\ s_{n} \\end {bmatrix} $$\n",
    "\n",
    "If we want to derive this function, we will have to derive each output w.r.t. $x_1$ through $x_n$. This will create a Jacobian (square) matrix:\n",
    "$$ \\begin{bmatrix} \\frac{\\partial s_1}{\\partial x_1} & \\frac{\\partial s_1}{\\partial x_2} & \\ldots \\ & \\frac{\\partial s_1}{\\partial x_n} \\\\ \\frac{\\partial s_2}{\\partial x_1} & \\frac{\\partial s_2}{\\partial x_2} \\\\  \\vdots & \\vdots \\\\  \\frac{\\partial s_1}{\\partial x_n} & \\frac{\\partial s_n}{\\partial x_2} & \\ldots\\ & \\frac{\\partial s_n}{\\partial x_n} \\\\ \\end{bmatrix} $$"
   ]
  },
  {
   "cell_type": "markdown",
   "metadata": {},
   "source": [
    "#### Deriving the softmax\n",
    "\n",
    "If we want to derive this function, we would have to use the quotient rule as we have done in many other calculations before.\n",
    "\n",
    "$$\\begin{aligned} &f(x) = \\frac{g(x)}{h(x)} \\\\\n",
    "& f'(x) = \\frac{g'(x)h(x) - g(x)h'(x)}{[h(x)]^2} \\end{aligned}$$\n",
    "\n",
    "Here, $g(x)=e^{x_i}$ and $h(x)=\\sum_{j=1} e^{x_j}$. There are two situations which we will have when we derive with respect to $x_j$."
   ]
  },
  {
   "cell_type": "markdown",
   "metadata": {},
   "source": [
    "Case 1: $i=j$ (Jacobian matrix diagonal)\n",
    "$$g(x)=e^{x_j}$$\n",
    "$$ \\frac{\\partial g(x)}{\\partial x_j}=e^{x_j}$$\n",
    "\n",
    "$$h(x)=\\sum_{j=1} e^{x_j}$$\n",
    "$$ \\frac{\\partial h(x)}{\\partial x_j}=e^{x_j}$$\n",
    "\n",
    "So, if we want to find the partial derivatives of the softmax function, we would need to do the following for this case:\n",
    "\n",
    "$$\\begin{aligned}\n",
    "& = \\frac{\\partial \\text{softmax}}{\\partial x_j} \\\\\n",
    "& = \\frac{e^{x_j} \\cdot \\sum_{k=1} e^{x_k} - e^{x_j} \\cdot e^{x_j}}{\\big[ \\sum_{k=1} e^{x_k} \\big]^2 } \\\\\n",
    "& = \\frac{e^{x_j} \\big( \\sum_{k=1} e^{x_k} - e^{x_j} \\big) } {\\big[ \\sum_{k=1} e^{x_k} \\big]^2 } \\\\\n",
    "& = \\frac{e^{x_j}} { \\sum_{k=1} e^{x_k} } \\cdot \\frac{\\sum_{k=1} e^{x_k} - e^{x_j}}{ \\sum_{k=1} e^{x_k} } \\\\\n",
    "& = \\text{softmax} (1- \\text{softmax})\\\\\n",
    "\\end{aligned}$$"
   ]
  },
  {
   "cell_type": "markdown",
   "metadata": {},
   "source": [
    "Case 2: $i \\neq j$ (off-diagonal elements)\n",
    "$$g(x)=e^{x_i}$$\n",
    "$$ \\frac{\\partial g(x)}{\\partial x_j}=0$$\n",
    "\n",
    "$$h(x)=\\sum_{j=1} e^{x_j}$$\n",
    "$$ \\frac{\\partial h(x)}{\\partial x_j}=e^{x_j}$$\n",
    "\n",
    "\n",
    "And for this case, the derivative is:\n",
    "\n",
    "$$\\begin{aligned}\n",
    "& = \\frac{\\partial \\text{softmax}}{\\partial x_j} \\\\\n",
    "& = \\frac{0 \\cdot \\sum_{k=1} e^{x_k} - e^{x_j} \\cdot e^{x_i}}{\\big[ \\sum_{k=1} e^{x_k} \\big]^2 } \\\\\n",
    "& = - \\frac{e^{x_j}}{\\sum_{k=1} e^{x_k}} \\cdot \\frac{e^{x_i}}{\\sum_{k=1} e^{x_k}} \\\\\n",
    "& = - \\text{softmax} \\cdot \\text{softmax}\\\\\n",
    "\\end{aligned}$$\n",
    "\n",
    "Just like that, we can now use the softmax's gradient to solve a minimization."
   ]
  },
  {
   "cell_type": "code",
   "execution_count": 11,
   "metadata": {},
   "outputs": [
    {
     "data": {
      "image/png": "[encoded data removed]",
      "text/plain": [
       "<Figure size 432x288 with 1 Axes>"
      ]
     },
     "metadata": {
      "needs_background": "light"
     },
     "output_type": "display_data"
    }
   ],
   "source": [
    "# Here we will only plot the function as the derivative is more complex\n",
    "def softmax(x):\n",
    "    return np.exp(x) / np.sum(np.exp(x), axis=0)\n",
    "\n",
    "plt.plot(range_for_demo, softmax(range_for_demo), label=\"f(x)\")\n",
    "plt.legend(loc='best')\n",
    "plt.grid(True)\n",
    "plt.xlabel('x')\n",
    "plt.ylabel('f(x)')\n",
    "plt.show()"
   ]
  },
  {
   "cell_type": "markdown",
   "metadata": {},
   "source": [
    "So, now let's continue through the first pass of our classification neural network. We will first calculate the input into the final layer:"
   ]
  },
  {
   "cell_type": "code",
   "execution_count": 12,
   "metadata": {},
   "outputs": [
    {
     "data": {
      "text/plain": [
       "array([[-2.18882511]])"
      ]
     },
     "execution_count": 12,
     "metadata": {},
     "output_type": "execute_result"
    }
   ],
   "source": [
    "Z_output = np.dot(W_1, H) + B_1  # Sum of next layer of weights*respective node then add bias\n",
    "Z_output "
   ]
  },
  {
   "cell_type": "markdown",
   "metadata": {},
   "source": [
    "Now, we will apply a sigmoid function which will output a value between 0 and 1. This will represent probability of class 1 for the first forward pass. We can infer the probability of class 0 by finding the inverse of this, $1-\\hat y$. We know that this will very likely be optimized through gradient descent shortly."
   ]
  },
  {
   "cell_type": "code",
   "execution_count": 13,
   "metadata": {},
   "outputs": [
    {
     "data": {
      "text/plain": [
       "array([[0.1007585]])"
      ]
     },
     "execution_count": 13,
     "metadata": {},
     "output_type": "execute_result"
    }
   ],
   "source": [
    "y_hat = sigmoid(Z_output)  # Apply activation for output layer's output\n",
    "y_hat"
   ]
  },
  {
   "cell_type": "markdown",
   "metadata": {},
   "source": [
    "## Loss Functions for Classification\n",
    "\n",
    "### Cross-Entropy\n",
    "Entropy $H(y)$ is a term from Information Theory which signifies the optimal number of bits needed to encode a certain amount of information. $y_c$ is the probability of the nth event, or in our case, class:\n",
    "\n",
    "$$H(y) = \\sum_c y_c \\cdot \\log \\frac{1}{y_c} = -\\sum_c y_c \\cdot \\log y_c$$\n",
    "\n",
    "Now the cross-entropy $H(y,\\hat{y})$ is the number of bits we'll need to encode symbols from $y$ using the wrong tool $\\hat{y}$. Cross-entropy is always bigger or equal to entropy. Mind that $c$ is the number of classes. \n",
    "\n",
    "$$H(y, \\hat{y}) = \\sum_c y_c \\cdot \\log \\frac{1}{\\hat{y}_c} = -\\sum_c y_c \\cdot \\log \\hat{y}_c$$\n",
    "\n",
    "Interestingly enough, the The KL divergence that you have encountered before in BADS (uplift random forest) is simply the difference between cross-entropy and entropy:\n",
    "$$\\mbox{KL}(y~||~\\hat{y})\n",
    "= \\sum_c y_c \\log \\frac{1}{\\hat{y}_c} - \\sum_c y_c \\log \\frac{1}{y_c}\n",
    "= \\sum_c y_c \\log \\frac{y_c}{\\hat{y}_c}$$\n",
    "\n",
    "We would be calculating cross-entropy for every pair of true/estimated probabilities and averaging it over the sample or batch - this will be our loss function *L* that we will ultimately want to minimize (class i, sample j):\n",
    "\n",
    "$$L=-\\frac{1}{n}\\sum_i \\sum_c y_{i,c} \\log(\\hat{y}_{i,c})$$"
   ]
  },
  {
   "cell_type": "markdown",
   "metadata": {},
   "source": [
    "### Binary cross-entropy\n",
    "For **binary classification**, we would use the special case of the equation above with 2 classes called binary cross-entropy (note there are other options like hinge loss).\n",
    "\n",
    "$$L=-\\frac{1}{n}\\sum_i \\big( y_{i,1}  \\log(\\hat{y}_{i,1}) + y_{i,2} \\log(\\hat{y}_{i,2}) \\big) $$"
   ]
  },
  {
   "cell_type": "markdown",
   "metadata": {},
   "source": [
    "#### Deriving the loss function\n",
    "Now, we need to minimize the loss function. Let's derive the binary cross entropy function for a single observation. We will remove the $\\frac{1}{n}$ since it can be divided out in the minimization:\n",
    "\n",
    "$$\\begin{aligned}\n",
    "& = \\frac{\\partial L_i}{\\partial w} \\\\\n",
    "& = - \\frac{\\partial}{\\partial w} y_{1}  \\log(\\hat{y}_{1}) + \\frac{\\partial}{\\partial w}  y_{2} \\log(\\hat{y}_{2}) \\\\\n",
    "\\end{aligned}$$\n",
    "\n",
    "At this point, it is important to remember three things at this point. The first is that the true values $y_i$ are just constants. Secondly, the estimates  $\\hat y_i $ are a function determined by the sigmoid, so we use the chain rule on each $log(\\hat y_i)$. Lastly, we also can replace $y_1$ with $y$ and $y_2$ with $1-y$ since we only have two probabilities/possibilities which are complements of each other. \n",
    "\n",
    "$$\\begin{aligned}\n",
    "& = - \\frac{y_{1}}{\\hat{y}_{1}} \\cdot \\frac{\\partial}{\\partial w}\\hat{y}_{1} - \\frac{y_{2}}{\\hat{y}_{2}} \\cdot \\frac{\\partial}{\\partial w}\\hat{y}_{2} \\\\\n",
    "& = - \\frac{y}{\\hat{y}} \\cdot \\frac{\\partial}{\\partial w}\\hat{y} - \\frac{1-{y}}{1-\\hat{y}} \\cdot \\frac{\\partial}{\\partial w} (1-\\hat{y}) \\\\\n",
    "& = - \\frac{y}{\\hat{y}} \\cdot \\frac{\\partial}{\\partial w}\\hat{y} + \\frac{1-{y}}{1-\\hat{y}} \\cdot \\frac{\\partial}{\\partial w} \\hat{y} \\\\\n",
    "\\end{aligned}$$\n",
    "\n",
    "\n",
    "We know that the final equation which determines $\\hat y$ is the final sigmoid activation. So, we can replace $\\hat y$ with the sigmoid and derive it where necessary (full derivation in part 1 of these tutorials).\n",
    "\n",
    "\n",
    "$$\\begin{aligned}\n",
    "& = - \\frac{y}{\\text{sigmoid}} \\cdot \\frac{\\partial}{\\partial w} \\text{sigmoid} + \\frac{1-{y}}{1-\\text{sigmoid}} \\cdot \\frac{\\partial}{\\partial w} \\text{sigmoid}  \\\\\n",
    "& = - \\frac{y}{\\text{sigmoid}} \\cdot \\text{sigmoid}\\cdot (1-\\text{sigmoid}) + \\frac{1-{y}}{1-\\text{sigmoid}} \\cdot (\\text{sigmoid}\\cdot (1-\\text{sigmoid}))  \\\\\n",
    "& = - y \\cdot (1-\\text{sigmoid}) + (1-y) \\cdot \\text{sigmoid} \\\\\n",
    "& = - y + y \\cdot \\text{sigmoid} + \\text{sigmoid}-y \\cdot \\text{sigmoid} \\\\\n",
    "& = \\text{sigmoid}-{y} \\\\\n",
    "\\end{aligned}$$\n",
    "\n",
    "The sigmoid at the end is also the prediction, so that means: $$ = \\text{sigmoid}-{y} = \\hat{y}-{y} $$ The extreme simplicity of this function's derivative is what makes it so ideal for a loss function, especially when the number of calculations starts to grow in the optimization process."
   ]
  },
  {
   "cell_type": "code",
   "execution_count": 14,
   "metadata": {},
   "outputs": [],
   "source": [
    "# Define the binary cros entropy loss function\n",
    "def bce(true, pred):\n",
    "    eps = 1e-50 # small epsilon so that the log never tries to div by 0\n",
    "    return - np.mean(\n",
    "        np.multiply(true, np.log(pred + eps)) + np.multiply((1-true), np.log(1 - pred + eps)))\n",
    "\n",
    "def bce_derivative(pred, true):\n",
    "    return pred - true"
   ]
  },
  {
   "cell_type": "markdown",
   "metadata": {},
   "source": [
    "Let's take a look at the intitial loss for observation 5, the derivative of the loss function and final activation function."
   ]
  },
  {
   "cell_type": "code",
   "execution_count": 15,
   "metadata": {},
   "outputs": [
    {
     "data": {
      "text/plain": [
       "0.10620364398497029"
      ]
     },
     "execution_count": 15,
     "metadata": {},
     "output_type": "execute_result"
    }
   ],
   "source": [
    "loss = bce(Y[5], y_hat)\n",
    "loss"
   ]
  },
  {
   "cell_type": "markdown",
   "metadata": {},
   "source": [
    "And now the derivatives associated with the loss function and the final activation."
   ]
  },
  {
   "cell_type": "code",
   "execution_count": 16,
   "metadata": {},
   "outputs": [
    {
     "data": {
      "text/plain": [
       "array([[0.1007585]])"
      ]
     },
     "execution_count": 16,
     "metadata": {},
     "output_type": "execute_result"
    }
   ],
   "source": [
    "loss_derivative = bce_derivative(y_hat, Y[5])\n",
    "loss_derivative"
   ]
  },
  {
   "cell_type": "code",
   "execution_count": 17,
   "metadata": {},
   "outputs": [
    {
     "data": {
      "text/plain": [
       "array([[0.09060622]])"
      ]
     },
     "execution_count": 17,
     "metadata": {},
     "output_type": "execute_result"
    }
   ],
   "source": [
    "final_activation_derivative = sigmoid_derivative(Z_output)\n",
    "final_activation_derivative"
   ]
  },
  {
   "cell_type": "markdown",
   "metadata": {},
   "source": [
    "## Optimization based on loss\n",
    "To continue, we can just use the code that we had in part 2. We just need to make sure that our chosen activation this time ($tanh$) is subsituted where appropriate. Again, we did not have to choose $tanh$ and you should experiment with other activations to optimize your model."
   ]
  },
  {
   "cell_type": "code",
   "execution_count": 18,
   "metadata": {},
   "outputs": [
    {
     "name": "stdout",
     "output_type": "stream",
     "text": [
      "Shape of first weights (1, 10)\n",
      "Shape of gradient vector (10, 1)\n",
      "Shape of input (2, 1)\n"
     ]
    }
   ],
   "source": [
    "# Update weights furthest back in the network (between hidden and output layer)\n",
    "gradient_HiddenToOutput = np.dot(loss_derivative*final_activation_derivative, np.transpose(H))\n",
    "gradient_HiddenToOutput.shape\n",
    "\n",
    "# Update output layer biases\n",
    "gradient_HiddenToOutput_bias = loss_derivative*final_activation_derivative\n",
    "\n",
    "# Save the error of the output layer\n",
    "pred_errors = loss_derivative * final_activation_derivative\n",
    "\n",
    "# Find gradient for next step for backpropagation: gradient to update weights between hidden and input layer\n",
    "gradient_InputToHidden = np.dot(W_1.T, pred_errors)\n",
    "print(f'Shape of first weights {W_1.shape}')\n",
    "\n",
    "# Next propagation backwards: derivative of the hidden layer output wrt the hidden layer input (tanh derivative)\n",
    "gradient_InputToHidden = gradient_InputToHidden * tanH_derivative(Z_hidden)\n",
    "print(f'Shape of gradient vector {gradient_InputToHidden.shape}')\n",
    "\n",
    "# Derivate of the hidden layer input wrt to the weight matrix connecting the hidden layer to inputs X\n",
    "gradient_InputToHidden = np.dot(gradient_InputToHidden, np.transpose(X))\n",
    "print(f'Shape of input {X.shape}')\n",
    "\n",
    "# Last update: output layer biases\n",
    "gradient_InputToHidden_bias = np.dot(W_1.T, pred_errors) * tanH_derivative(Z_hidden)"
   ]
  },
  {
   "cell_type": "markdown",
   "metadata": {},
   "source": [
    "## Initial weight correction\n",
    "Now that we have calculated our gradients, we can finally perform our first update! This process should be identical to what we saw in part 2. Just as before, we can set a different step size (learning rate) for this initial optimization step."
   ]
  },
  {
   "cell_type": "code",
   "execution_count": 19,
   "metadata": {},
   "outputs": [],
   "source": [
    "# Gradient descent step\n",
    "learningRate = 0.1  # define some learning rate for first step\n",
    "\n",
    "# Update weights between hidden and output layer (furthest back)\n",
    "W_1 -= learningRate * gradient_HiddenToOutput\n",
    "# Update bias in output layer\n",
    "B_1 -= learningRate * gradient_HiddenToOutput_bias\n",
    "# Update weights between input and hidden layer (furthest forward)\n",
    "W_0 -= learningRate * gradient_InputToHidden\n",
    "# Update bias in hidden layer\n",
    "B_0 -= learningRate * gradient_InputToHidden_bias"
   ]
  },
  {
   "cell_type": "markdown",
   "metadata": {},
   "source": [
    "With that, we have completed our first weight and bias update on this journey through neural network optimization. Now let's write review some code for batch gradient descent just as we did in part 2."
   ]
  },
  {
   "cell_type": "markdown",
   "metadata": {},
   "source": [
    "## Setting learning rate, epochs and batch sizes\n",
    "As in part 2, we will need to set a few more parameters which we can adjust for better optimization of the network:\n",
    "- Learning rate: how much the algorithm will move in the negative direction of the gradient, too large and we will likely overshoot a local minimum, too low and no improvement will be seen\n",
    "- Epochs: how many rounds to train the model, too few could be too little for improvement, too many could cause the capture of too much noise in the data\n",
    "- Batch size: the amount of observations that we will be randomly selecting for the optimization of our network, we will average their gradient and move in the direction of the average"
   ]
  },
  {
   "cell_type": "code",
   "execution_count": 20,
   "metadata": {},
   "outputs": [],
   "source": [
    "learningRate = 0.02\n",
    "epochs =  300  # stopping rule, how many corrective iterations we will allow\n",
    "batch_size = 500\n",
    "\n",
    "input_dim = XX.shape[1]  # number of variables\n",
    "output_dim = 1  # should be equal to 1 since we are only finding the predicted value for 1 regression"
   ]
  },
  {
   "cell_type": "markdown",
   "metadata": {},
   "source": [
    "## Rewire SGD for binary classification\n",
    "Here is the code which includes the loops for batch gradient descent according to the number of allowed epochs at the specified learning rate with the specific batch size. The only spots here where you should see changes is the loss function and activation functions (along with their respective derivatives). We can then run the code to see if the error does start going down."
   ]
  },
  {
   "cell_type": "code",
   "execution_count": 21,
   "metadata": {},
   "outputs": [
    {
     "name": "stdout",
     "output_type": "stream",
     "text": [
      "Epoch 1 with average error of 1.48.\n",
      "Epoch 2 with average error of 1.48.\n",
      "Epoch 3 with average error of 1.48.\n",
      "Epoch 4 with average error of 1.48.\n",
      "Epoch 5 with average error of 1.48.\n",
      "Epoch 6 with average error of 1.48.\n",
      "Epoch 7 with average error of 1.48.\n",
      "Epoch 8 with average error of 1.48.\n",
      "Epoch 9 with average error of 1.48.\n",
      "Epoch 10 with average error of 1.48.\n",
      "Epoch 11 with average error of 1.48.\n",
      "Epoch 12 with average error of 1.48.\n",
      "Epoch 13 with average error of 1.48.\n",
      "Epoch 14 with average error of 1.48.\n",
      "Epoch 15 with average error of 1.48.\n",
      "Epoch 16 with average error of 1.48.\n",
      "Epoch 17 with average error of 1.48.\n",
      "Epoch 18 with average error of 1.47.\n",
      "Epoch 19 with average error of 1.47.\n",
      "Epoch 20 with average error of 1.47.\n",
      "Epoch 21 with average error of 1.47.\n",
      "Epoch 22 with average error of 1.47.\n",
      "Epoch 23 with average error of 1.47.\n",
      "Epoch 24 with average error of 1.47.\n",
      "Epoch 25 with average error of 1.47.\n",
      "Epoch 26 with average error of 1.47.\n",
      "Epoch 27 with average error of 1.47.\n",
      "Epoch 28 with average error of 1.47.\n",
      "Epoch 29 with average error of 1.47.\n",
      "Epoch 30 with average error of 1.47.\n",
      "Epoch 31 with average error of 1.47.\n",
      "Epoch 32 with average error of 1.47.\n",
      "Epoch 33 with average error of 1.47.\n",
      "Epoch 34 with average error of 1.47.\n",
      "Epoch 35 with average error of 1.47.\n",
      "Epoch 36 with average error of 1.47.\n",
      "Epoch 37 with average error of 1.47.\n",
      "Epoch 38 with average error of 1.46.\n",
      "Epoch 39 with average error of 1.46.\n",
      "Epoch 40 with average error of 1.46.\n",
      "Epoch 41 with average error of 1.46.\n",
      "Epoch 42 with average error of 1.46.\n",
      "Epoch 43 with average error of 1.46.\n",
      "Epoch 44 with average error of 1.46.\n",
      "Epoch 45 with average error of 1.46.\n",
      "Epoch 46 with average error of 1.45.\n",
      "Epoch 47 with average error of 1.45.\n",
      "Epoch 48 with average error of 1.45.\n",
      "Epoch 49 with average error of 1.45.\n",
      "Epoch 50 with average error of 1.45.\n",
      "Epoch 51 with average error of 1.45.\n",
      "Epoch 52 with average error of 1.45.\n",
      "Epoch 53 with average error of 1.45.\n",
      "Epoch 54 with average error of 1.45.\n",
      "Epoch 55 with average error of 1.45.\n",
      "Epoch 56 with average error of 1.45.\n",
      "Epoch 57 with average error of 1.45.\n",
      "Epoch 58 with average error of 1.45.\n",
      "Epoch 59 with average error of 1.45.\n",
      "Epoch 60 with average error of 1.45.\n",
      "Epoch 61 with average error of 1.45.\n",
      "Epoch 62 with average error of 1.44.\n",
      "Epoch 63 with average error of 1.45.\n",
      "Epoch 64 with average error of 1.45.\n",
      "Epoch 65 with average error of 1.45.\n",
      "Epoch 66 with average error of 1.44.\n",
      "Epoch 67 with average error of 1.44.\n",
      "Epoch 68 with average error of 1.45.\n",
      "Epoch 69 with average error of 1.45.\n",
      "Epoch 70 with average error of 1.44.\n",
      "Epoch 71 with average error of 1.44.\n",
      "Epoch 72 with average error of 1.44.\n",
      "Epoch 73 with average error of 1.44.\n",
      "Epoch 74 with average error of 1.44.\n",
      "Epoch 75 with average error of 1.44.\n",
      "Epoch 76 with average error of 1.44.\n",
      "Epoch 77 with average error of 1.44.\n",
      "Epoch 78 with average error of 1.44.\n",
      "Epoch 79 with average error of 1.43.\n",
      "Epoch 80 with average error of 1.43.\n",
      "Epoch 81 with average error of 1.43.\n",
      "Epoch 82 with average error of 1.43.\n",
      "Epoch 83 with average error of 1.43.\n",
      "Epoch 84 with average error of 1.43.\n",
      "Epoch 85 with average error of 1.43.\n",
      "Epoch 86 with average error of 1.43.\n",
      "Epoch 87 with average error of 1.43.\n",
      "Epoch 88 with average error of 1.43.\n",
      "Epoch 89 with average error of 1.43.\n",
      "Epoch 90 with average error of 1.43.\n",
      "Epoch 91 with average error of 1.43.\n",
      "Epoch 92 with average error of 1.43.\n",
      "Epoch 93 with average error of 1.42.\n",
      "Epoch 94 with average error of 1.42.\n",
      "Epoch 95 with average error of 1.42.\n",
      "Epoch 96 with average error of 1.42.\n",
      "Epoch 97 with average error of 1.42.\n",
      "Epoch 98 with average error of 1.42.\n",
      "Epoch 99 with average error of 1.42.\n",
      "Epoch 100 with average error of 1.43.\n",
      "Epoch 101 with average error of 1.43.\n",
      "Epoch 102 with average error of 1.43.\n",
      "Epoch 103 with average error of 1.42.\n",
      "Epoch 104 with average error of 1.42.\n",
      "Epoch 105 with average error of 1.42.\n",
      "Epoch 106 with average error of 1.42.\n",
      "Epoch 107 with average error of 1.42.\n",
      "Epoch 108 with average error of 1.42.\n",
      "Epoch 109 with average error of 1.42.\n",
      "Epoch 110 with average error of 1.42.\n",
      "Epoch 111 with average error of 1.42.\n",
      "Epoch 112 with average error of 1.43.\n",
      "Epoch 113 with average error of 1.42.\n",
      "Epoch 114 with average error of 1.42.\n",
      "Epoch 115 with average error of 1.42.\n",
      "Epoch 116 with average error of 1.42.\n",
      "Epoch 117 with average error of 1.42.\n",
      "Epoch 118 with average error of 1.42.\n",
      "Epoch 119 with average error of 1.42.\n",
      "Epoch 120 with average error of 1.42.\n",
      "Epoch 121 with average error of 1.42.\n",
      "Epoch 122 with average error of 1.42.\n",
      "Epoch 123 with average error of 1.42.\n",
      "Epoch 124 with average error of 1.42.\n",
      "Epoch 125 with average error of 1.42.\n",
      "Epoch 126 with average error of 1.42.\n",
      "Epoch 127 with average error of 1.43.\n",
      "Epoch 128 with average error of 1.43.\n",
      "Epoch 129 with average error of 1.43.\n",
      "Epoch 130 with average error of 1.43.\n",
      "Epoch 131 with average error of 1.43.\n",
      "Epoch 132 with average error of 1.43.\n",
      "Epoch 133 with average error of 1.42.\n",
      "Epoch 134 with average error of 1.42.\n",
      "Epoch 135 with average error of 1.42.\n",
      "Epoch 136 with average error of 1.42.\n",
      "Epoch 137 with average error of 1.41.\n",
      "Epoch 138 with average error of 1.41.\n",
      "Epoch 139 with average error of 1.41.\n",
      "Epoch 140 with average error of 1.41.\n",
      "Epoch 141 with average error of 1.41.\n",
      "Epoch 142 with average error of 1.40.\n",
      "Epoch 143 with average error of 1.40.\n",
      "Epoch 144 with average error of 1.40.\n",
      "Epoch 145 with average error of 1.40.\n",
      "Epoch 146 with average error of 1.40.\n",
      "Epoch 147 with average error of 1.39.\n",
      "Epoch 148 with average error of 1.40.\n",
      "Epoch 149 with average error of 1.40.\n",
      "Epoch 150 with average error of 1.39.\n",
      "Epoch 151 with average error of 1.39.\n",
      "Epoch 152 with average error of 1.39.\n",
      "Epoch 153 with average error of 1.39.\n",
      "Epoch 154 with average error of 1.38.\n",
      "Epoch 155 with average error of 1.38.\n",
      "Epoch 156 with average error of 1.38.\n",
      "Epoch 157 with average error of 1.38.\n",
      "Epoch 158 with average error of 1.38.\n",
      "Epoch 159 with average error of 1.37.\n",
      "Epoch 160 with average error of 1.37.\n",
      "Epoch 161 with average error of 1.37.\n",
      "Epoch 162 with average error of 1.37.\n",
      "Epoch 163 with average error of 1.36.\n",
      "Epoch 164 with average error of 1.36.\n",
      "Epoch 165 with average error of 1.36.\n",
      "Epoch 166 with average error of 1.37.\n",
      "Epoch 167 with average error of 1.36.\n",
      "Epoch 168 with average error of 1.36.\n",
      "Epoch 169 with average error of 1.36.\n",
      "Epoch 170 with average error of 1.35.\n",
      "Epoch 171 with average error of 1.35.\n",
      "Epoch 172 with average error of 1.35.\n",
      "Epoch 173 with average error of 1.35.\n",
      "Epoch 174 with average error of 1.34.\n",
      "Epoch 175 with average error of 1.34.\n",
      "Epoch 176 with average error of 1.34.\n",
      "Epoch 177 with average error of 1.33.\n",
      "Epoch 178 with average error of 1.33.\n",
      "Epoch 179 with average error of 1.32.\n",
      "Epoch 180 with average error of 1.32.\n",
      "Epoch 181 with average error of 1.32.\n",
      "Epoch 182 with average error of 1.32.\n",
      "Epoch 183 with average error of 1.32.\n",
      "Epoch 184 with average error of 1.33.\n",
      "Epoch 185 with average error of 1.32.\n",
      "Epoch 186 with average error of 1.33.\n",
      "Epoch 187 with average error of 1.32.\n",
      "Epoch 188 with average error of 1.32.\n",
      "Epoch 189 with average error of 1.32.\n",
      "Epoch 190 with average error of 1.31.\n",
      "Epoch 191 with average error of 1.32.\n",
      "Epoch 192 with average error of 1.31.\n",
      "Epoch 193 with average error of 1.31.\n",
      "Epoch 194 with average error of 1.31.\n",
      "Epoch 195 with average error of 1.31.\n",
      "Epoch 196 with average error of 1.30.\n",
      "Epoch 197 with average error of 1.30.\n",
      "Epoch 198 with average error of 1.30.\n",
      "Epoch 199 with average error of 1.30.\n",
      "Epoch 200 with average error of 1.29.\n",
      "Epoch 201 with average error of 1.30.\n",
      "Epoch 202 with average error of 1.29.\n",
      "Epoch 203 with average error of 1.29.\n",
      "Epoch 204 with average error of 1.29.\n",
      "Epoch 205 with average error of 1.29.\n",
      "Epoch 206 with average error of 1.29.\n",
      "Epoch 207 with average error of 1.29.\n",
      "Epoch 208 with average error of 1.30.\n",
      "Epoch 209 with average error of 1.30.\n",
      "Epoch 210 with average error of 1.29.\n",
      "Epoch 211 with average error of 1.29.\n",
      "Epoch 212 with average error of 1.29.\n",
      "Epoch 213 with average error of 1.28.\n",
      "Epoch 214 with average error of 1.28.\n",
      "Epoch 215 with average error of 1.28.\n",
      "Epoch 216 with average error of 1.28.\n",
      "Epoch 217 with average error of 1.28.\n",
      "Epoch 218 with average error of 1.27.\n",
      "Epoch 219 with average error of 1.28.\n",
      "Epoch 220 with average error of 1.28.\n",
      "Epoch 221 with average error of 1.27.\n",
      "Epoch 222 with average error of 1.27.\n",
      "Epoch 223 with average error of 1.27.\n"
     ]
    },
    {
     "name": "stdout",
     "output_type": "stream",
     "text": [
      "Epoch 224 with average error of 1.27.\n",
      "Epoch 225 with average error of 1.27.\n",
      "Epoch 226 with average error of 1.27.\n",
      "Epoch 227 with average error of 1.27.\n",
      "Epoch 228 with average error of 1.27.\n",
      "Epoch 229 with average error of 1.27.\n",
      "Epoch 230 with average error of 1.26.\n",
      "Epoch 231 with average error of 1.26.\n",
      "Epoch 232 with average error of 1.25.\n",
      "Epoch 233 with average error of 1.25.\n",
      "Epoch 234 with average error of 1.24.\n",
      "Epoch 235 with average error of 1.24.\n",
      "Epoch 236 with average error of 1.24.\n",
      "Epoch 237 with average error of 1.24.\n",
      "Epoch 238 with average error of 1.24.\n",
      "Epoch 239 with average error of 1.25.\n",
      "Epoch 240 with average error of 1.24.\n",
      "Epoch 241 with average error of 1.24.\n",
      "Epoch 242 with average error of 1.24.\n",
      "Epoch 243 with average error of 1.24.\n",
      "Epoch 244 with average error of 1.23.\n",
      "Epoch 245 with average error of 1.23.\n",
      "Epoch 246 with average error of 1.23.\n",
      "Epoch 247 with average error of 1.22.\n",
      "Epoch 248 with average error of 1.22.\n",
      "Epoch 249 with average error of 1.23.\n",
      "Epoch 250 with average error of 1.23.\n",
      "Epoch 251 with average error of 1.23.\n",
      "Epoch 252 with average error of 1.22.\n",
      "Epoch 253 with average error of 1.22.\n",
      "Epoch 254 with average error of 1.22.\n",
      "Epoch 255 with average error of 1.21.\n",
      "Epoch 256 with average error of 1.21.\n",
      "Epoch 257 with average error of 1.21.\n",
      "Epoch 258 with average error of 1.21.\n",
      "Epoch 259 with average error of 1.21.\n",
      "Epoch 260 with average error of 1.20.\n",
      "Epoch 261 with average error of 1.21.\n",
      "Epoch 262 with average error of 1.20.\n",
      "Epoch 263 with average error of 1.20.\n",
      "Epoch 264 with average error of 1.21.\n",
      "Epoch 265 with average error of 1.21.\n",
      "Epoch 266 with average error of 1.21.\n",
      "Epoch 267 with average error of 1.22.\n",
      "Epoch 268 with average error of 1.21.\n",
      "Epoch 269 with average error of 1.20.\n",
      "Epoch 270 with average error of 1.20.\n",
      "Epoch 271 with average error of 1.20.\n",
      "Epoch 272 with average error of 1.20.\n",
      "Epoch 273 with average error of 1.20.\n",
      "Epoch 274 with average error of 1.20.\n",
      "Epoch 275 with average error of 1.20.\n",
      "Epoch 276 with average error of 1.19.\n",
      "Epoch 277 with average error of 1.19.\n",
      "Epoch 278 with average error of 1.18.\n",
      "Epoch 279 with average error of 1.19.\n",
      "Epoch 280 with average error of 1.19.\n",
      "Epoch 281 with average error of 1.19.\n",
      "Epoch 282 with average error of 1.18.\n",
      "Epoch 283 with average error of 1.19.\n",
      "Epoch 284 with average error of 1.19.\n",
      "Epoch 285 with average error of 1.18.\n",
      "Epoch 286 with average error of 1.19.\n",
      "Epoch 287 with average error of 1.20.\n",
      "Epoch 288 with average error of 1.20.\n",
      "Epoch 289 with average error of 1.19.\n",
      "Epoch 290 with average error of 1.19.\n",
      "Epoch 291 with average error of 1.19.\n",
      "Epoch 292 with average error of 1.19.\n",
      "Epoch 293 with average error of 1.19.\n",
      "Epoch 294 with average error of 1.19.\n",
      "Epoch 295 with average error of 1.20.\n",
      "Epoch 296 with average error of 1.19.\n",
      "Epoch 297 with average error of 1.19.\n",
      "Epoch 298 with average error of 1.19.\n",
      "Epoch 299 with average error of 1.20.\n",
      "Epoch 300 with average error of 1.20.\n"
     ]
    }
   ],
   "source": [
    "iteration = 0\n",
    "\n",
    "loss_log = []\n",
    "\n",
    "while iteration < epochs:\n",
    "\n",
    "    # Process one batch of random observations per epoch/iteration\n",
    "    random_batch = random.sample(range(0, XX.shape[0]), batch_size)  # choose observations for random batch\n",
    "\n",
    "    HiddenToOutput_gradient_list = [] # to store the gradients based on each observation in batch\n",
    "    InputToHidden_gradient_list = []\n",
    "\n",
    "    # Update weights and biases one at a time with each random observation's error (all steps before, just in a loop together)\n",
    "    for obs in random_batch:\n",
    "\n",
    "        # Select feature values and target value for random observation\n",
    "        X = np.array(XX[obs]).reshape((input_dim, 1))\n",
    "        y = Y[obs].reshape((1, 1))\n",
    "\n",
    "        # Compute the forward pass through the network all the way up to the final output\n",
    "        Z_hidden = np.dot(W_0, X) + B_0\n",
    "        H = tanH(Z_hidden)\n",
    "        Z_output = np.dot(W_1, H) + B_1\n",
    "        y_hat = sigmoid(Z_output)  # final activation is sigmoid instead of linear\n",
    "\n",
    "        # Gradient for the weights between hidden and output layers\n",
    "        gradient_HiddenToOutput = bce_derivative(Y[obs], y_hat) * sigmoid_derivative(y_hat) # use derivative of BCE loss and sigmoid\n",
    "        pred_errors = gradient_HiddenToOutput\n",
    "\n",
    "        # Gradient for the weights between input and hidden layers\n",
    "        gradient_InputToHidden = np.dot(W_1.T, pred_errors) * tanH_derivative(Z_hidden)\n",
    "        \n",
    "        HiddenToOutput_gradient_list.append(gradient_HiddenToOutput)\n",
    "        InputToHidden_gradient_list.append(gradient_InputToHidden)\n",
    "\n",
    "    mean_gradient_HiddenToOutput = np.mean(HiddenToOutput_gradient_list, axis=0) # average optimal movemnt over batch\n",
    "    mean_gradient_InputToHidden = np.mean(InputToHidden_gradient_list, axis=0)\n",
    "    \n",
    "    # Update biases according to learning rate and gradient\n",
    "    B_1 -= learningRate * mean_gradient_HiddenToOutput\n",
    "    B_0 -= learningRate * mean_gradient_InputToHidden\n",
    "\n",
    "    # Update weights according to learning rate and gradient\n",
    "    W_1 -= learningRate * np.dot(mean_gradient_HiddenToOutput, np.transpose(Z_hidden))\n",
    "    W_0 -= learningRate * np.dot(mean_gradient_InputToHidden, np.transpose(X))\n",
    "    \n",
    "    # Check how well the model does on all observations by passing them through a forward pass with most up to date weights\n",
    "    XX_reshaped = np.array(XX).reshape((inputLayer_size, n))  # all observations\n",
    "    Y_reshaped = Y.reshape((outputLayer_size, n))\n",
    "    Z_hidden = np.dot(W_0, XX_reshaped) + B_0  # first hidden layer inputs\n",
    "    H = tanH(Z_hidden)  # hidden layer output (after activation)\n",
    "    Z_output = np.dot(W_1, H) + B_1  # input to output layer\n",
    "    Y_hat = sigmoid(Z_output) # Sigmoid output instead of linear\n",
    "    \n",
    "    # Calculate loss for entire model\n",
    "    iteration_loss = bce(Y_reshaped, Y_hat) # Here are we are using BCE\n",
    "    loss_log.append(iteration_loss)\n",
    "\n",
    "    # Development of the loss as average over observation-level losses\n",
    "    print(f'Epoch {iteration+1} with average error of {iteration_loss:.2f}.')\n",
    "    iteration += 1"
   ]
  },
  {
   "cell_type": "markdown",
   "metadata": {},
   "source": [
    "With this simple network, we can clearly see progress is being made! Not only that, hopefully you can now see the large similarities between classification and regression networks. They are highly related to each other, you only need to pay attention to: output layer size, final activation function and the loss function. Other than that, they are basically the same thing. There are of course many other powerful settings in more complex packages which you would be wise to explore. Creating a good neural network for a real task takes quite a lot of time and effort. This can be saved by using all the tools you have available to do so."
   ]
  },
  {
   "cell_type": "markdown",
   "metadata": {},
   "source": [
    "# Working with multi-class problems\n",
    "Now that you have an understanding on how binary classification works, you should find the transition to multi-class problems to be not too difficult. There are really only a few things to keep in mind regarding the output layer size, the recommended final activations and the recommended loss functions. Other than that, the rest is pretty much identical.\n",
    "\n",
    "### Output Layer\n",
    "- Your output layer will need one node per class.\n",
    "\n",
    "\n",
    "### Final Activation\n",
    "- For **single label multi-class problems**: softmax as all class probabilities should sum to 1 since only one label is possible.\n",
    "- For **multi-label multi-class problems**: sigmoid as there is no restriction on the sum of all probabilities since multiple labels are possible. \n",
    "\n",
    "\n",
    "### Loss functions\n",
    "- For **single label multi-class problems**, you should use categorical cross-entropy or the generalized version of the equation for $ L $ above (categorical cross-entropy).\n",
    "- For **multi-label multi-class problems**, you can use binary cross-entropy again because any label has its own probability."
   ]
  },
  {
   "cell_type": "markdown",
   "metadata": {},
   "source": [
    "# Cheat sheet for each scenario:\n",
    "\n",
    "For **regression problems**:\n",
    "- Make sure your output is 1 variable with any range\n",
    "- Output layer should be size 1\n",
    "- Output could be any number\n",
    "- Final activation function: linear or ReLU\n",
    "- Most popular loss function: MSE or MAE\n",
    "\n",
    "For **binary classification problem with target coded as a single dummy vector**:\n",
    "- Make sure your output is a single binary variable with values 0 and 1\n",
    "- Output layer should be size 1\n",
    "- Output will range from 0 to 1 and represent the probability of being class 1\n",
    "- Final activation function: sigmoid\n",
    "- Loss function: binary cross entropy\n",
    "\n",
    "For **binary classification problem with target coded as two complementary dummies**:\n",
    "- Make sure your output is two binary variables representing probabilities of class 0 and class 1\n",
    "- Output layer should be size 2\n",
    "- Output nodes will range from 0 to 1 and represent the probability of being class 0 and 1 respectively\n",
    "- Final activation function: softmax\n",
    "- Loss function: binary cross entropy\n",
    "\n",
    "For **multiple possible classes but strictly 1 class per observation (single label)**:\n",
    "- Make sure your output size is equivalent to the number of classes\n",
    "- Each value for outputs must be between 0 and 1\n",
    "- Output layer should be equivalent to the number of classes\n",
    "- Output will range for each class from 0 to 1 and represent the probability of being that class\n",
    "- Final activation: softmax\n",
    "- Loss function: categorical cross entropy\n",
    "\n",
    "For **multiple possible classes and multiple classes per observation are possible (multi-label)**:\n",
    "- Make sure your output size is equivalent to the number of classes\n",
    "- Each value for outputs must be between 0 and 1\n",
    "- Output layer should be equivalent to the number of classes\n",
    "- Output will range for each class from 0 to 1 and represent the probability of being that class\n",
    "- Final activation: sigmoid\n",
    "- Loss function: binary cross entropy"
   ]
  }
 ],
 "metadata": {
  "kernelspec": {
   "display_name": "Python 3",
   "language": "python",
   "name": "python3"
  },
  "language_info": {
   "codemirror_mode": {
    "name": "ipython",
    "version": 3
   },
   "file_extension": ".py",
   "mimetype": "text/x-python",
   "name": "python",
   "nbconvert_exporter": "python",
   "pygments_lexer": "ipython3",
   "version": "3.8.13"
  }
 },
 "nbformat": 4,
 "nbformat_minor": 4
}
