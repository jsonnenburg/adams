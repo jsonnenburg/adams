{
 "cells": [
  {
   "cell_type": "markdown",
   "metadata": {},
   "source": [
    "# ADAMS Tutorial #4: Foundations of neural networks\n",
    "## Part 1 of 3\n",
    "\n",
    "This is the first of three notebooks which will cover the foundations of feed-forward neural networks (NNs). Roughly speaking, NNs are a familiy of methods for modeling complex relationships in data. We will mainly look at NNs as a vehicle to perform pattern recognition (e.g. detect whehter an image shows a face) and solve prediction problems (e.g. predict what the stock price will be tomorrow). Our introductory lecture [Business Analytics and Data Science](https://github.com/Humboldt-WI/bads), introduced many machine learning methods for similar purposes. Examples include logistic regression and random forests. For start, you can think of NNs as yet another machine learning algorithm. However, the flexibility of NNs and their [success in many crucial real-world applications](http://dx.doi.org/10.1038/nature14539) justifies devoting a course to this special class of learning algorithms. \n",
    "\n",
    "The introduction is split into three parts: \n",
    "- Part 1: Neural Network Structure and the Forward Pass\n",
    "- Part 2: Network Training and Back Propagation \n",
    "- Part 3: Designing a Network for Classification\n",
    "\n",
    "## Outline of part 1 ##\n",
    " 1. Motivation for neural networks\n",
    " 2. Understanding the structure of a neural network\n",
    " 3. Comparing a neural network to ordinary regression\n",
    " 4. Input and output layer\n",
    " 5. Hidden layers\n",
    " 6. Weight initialization (only for first foward pass)\n",
    " 7. Activations\n",
    " 8. Overview of forward pass"
   ]
  },
  {
   "cell_type": "code",
   "execution_count": 4,
   "metadata": {},
   "outputs": [],
   "source": [
    "# Import libraries\n",
    "import pandas as pd\n",
    "import matplotlib.pyplot as plt\n",
    "import seaborn as sns\n",
    "import math\n",
    "import numpy as np\n",
    "\n",
    "np.random.seed(888)\n",
    "\n",
    "range_for_demo = np.linspace(-5, 5, 100)"
   ]
  },
  {
   "cell_type": "markdown",
   "metadata": {},
   "source": [
    "# Types of machine learning problems\n",
    "Neural networks are flexible algorithms. We will explore the reason for this as we explain how they work. For now, let's think about common problems which neural networks can help us with.\n",
    "\n",
    "**Regression** is when we are trying to predict a continuous number. How much will this customer spend today? How much rain will fall today?\n",
    "\n",
    "**Binary Classification** tries to predict which of two options is most likely. Eg. Will this customer spend money today (yes/no)? Will rain fall today (yes/no)?\n",
    " - The target variable can either be a single binary variable: the variable represents the probability of the event occurring (eg. one variable for purchase, no purchase is inferred as the inverse)\n",
    " - Or the variable can be two variables: the first being the probability of the non-event, the second being the probability of the event (eg. one variable for no purchase and one variable for purchase)\n",
    "\n",
    "**Single Label Multi-Class Problems** tries to predict which of 3 or more options are most likely but only ONE class is possible. Eg. Is this image a cat, dog or bird?\n",
    "\n",
    "**Multiple Label Multi-Class Problems** tries to predict which of 3 or more options are most likely and when multiple classes are possible. Eg. What in this set of products will be purchased?\n",
    "\n",
    "You will find that we can reframe almost every problem into one of these 4 types. We will begin by discussing regression, then move on to binary classification."
   ]
  },
  {
   "cell_type": "markdown",
   "metadata": {},
   "source": [
    "# Understanding the structure of neural networks\n",
    "\n",
    "## Our underlying data relationships\n",
    "### True Relationship\n",
    "So, we have a regression problem. Let's formulate it again mathematically. We want to find some relationship between our true target $y$ and the inputs $x$. For each observation, we will input its individual $x$ values, multiply them with their respective coefficients and it will yield a prediction $\\hat y$.\n",
    "\n",
    "So, if we believe the relationship to be linear, the true relationship is:\n",
    "$$ y = \\beta_{0} + \\beta_{1}x_{1}+  \\beta_{2}x_{2} + ... + \\beta_{k}x_{k} + e $$\n",
    "\n",
    "In matrix notation, this will look like:\n",
    "\n",
    "\n",
    "$$ \\begin{bmatrix}  y_{1} \\\\  y_{2} \\\\   \\vdots \\\\ y_{n} \\\\ \\end{bmatrix} =\n",
    "\\begin{bmatrix} 1 & x_{11} & \\ldots \\ & x_{1,k} \\\\  1 & x_2 \\\\  \\vdots & \\vdots \\\\  1 & x_n & \\ldots \\ & x_{n,k} \\\\ \\end{bmatrix}\n",
    "\\begin{bmatrix}  \\beta_{0} \\\\  \\beta_{1} \\\\   \\vdots \\\\ \\beta_{k} \\\\ \\end{bmatrix} +\n",
    "\\begin{bmatrix}  e_{1} \\\\  e_{2} \\\\   \\vdots \\\\ e_{n} \\end{bmatrix} $$"
   ]
  },
  {
   "cell_type": "markdown",
   "metadata": {},
   "source": [
    "### Approximation\n",
    "Of course, we will never know the true $ \\beta $, so we can only approximate $\\hat \\beta$. With this approximation, we will end up with prediction $\\hat y$. The whole formula for the prediction based on our model will look like this:\n",
    "$$ \\hat y= \\hat \\beta_{0} + \\hat \\beta_{1}x_{1}+ \\hat  \\beta_{2}x_{2} + ... + \\hat \\beta_{k}x_{k} $$\n",
    "\n",
    "or in matrix notation:\n",
    "\n",
    "$$\\begin{bmatrix} \\hat y_{1} \\\\ \\hat y_{2} \\\\   \\vdots \\\\ \\hat y_{n} \\\\ \\end{bmatrix}=\n",
    "\\begin{bmatrix} 1 & x_{11} & \\ldots \\ & x_{1,k} \\\\  1 & x_2 \\\\  \\vdots & \\vdots \\\\  1 & x_n & \\ldots\\ & x_{n,k} \\\\ \\end{bmatrix}\n",
    "\\begin{bmatrix} \\hat  \\beta_{0} \\\\ \\hat  \\beta_{1} \\\\   \\vdots \\\\ \\hat \\beta_{k} \\\\ \\end{bmatrix} $$"
   ]
  },
  {
   "cell_type": "markdown",
   "metadata": {},
   "source": [
    "## Coding this calculation efficiently\n",
    "Let's write this now in python. We'll pretend we have 3 features, so we'll need three $\\hat \\beta$ values. Instead of using the word coefficients to describe $\\hat \\beta$ as you may have heard previously, we will now use the term weights. Instead of an intercept for $\\hat \\beta_0$, we will use the term bias. Why? Well, these are the terms that prevail in the NN literature. Here's how you would code this:"
   ]
  },
  {
   "cell_type": "code",
   "execution_count": 6,
   "metadata": {},
   "outputs": [
    {
     "name": "stdout",
     "output_type": "stream",
     "text": [
      "CPU times: user 21 µs, sys: 1e+03 ns, total: 22 µs\n",
      "Wall time: 24.8 µs\n"
     ]
    },
    {
     "data": {
      "text/plain": [
       "1.19"
      ]
     },
     "execution_count": 6,
     "metadata": {},
     "output_type": "execute_result"
    }
   ],
   "source": [
    "%%time\n",
    "X = [0, 0.2, 0.9]  # values for the features for a randomly chosen observation\n",
    "W = [-0.4, 0.6, 0.3]  # weights assigned to each feature from our model\n",
    "b = 0.8  # bias\n",
    "\n",
    "z = b + X[0]*W[0] + X[1]*W[1] + X[2]*W[2]\n",
    "z  # our prediction!"
   ]
  },
  {
   "cell_type": "markdown",
   "metadata": {},
   "source": [
    "**Technicality**: Sometimes, but not in this tutorial, the bias is integrated into the weights directly. For this case, we would need to add $ 1 $ in the same position where the bias will occur in the weight array so it simply gets added in the calculation. Let's add the bias to the front of the output and add a 1 to the beginning of the input array accordingly."
   ]
  },
  {
   "cell_type": "code",
   "execution_count": 2,
   "metadata": {},
   "outputs": [
    {
     "data": {
      "text/plain": [
       "1.19"
      ]
     },
     "execution_count": 2,
     "metadata": {},
     "output_type": "execute_result"
    }
   ],
   "source": [
    "X = [1, 0, 0.2, 0.9]  # append 1 to beginning of array\n",
    "W = [0.8, -0.4, 0.6, 0.3]  # append bias to beginning of array\n",
    "\n",
    "z = X[0]*W[0] + X[1]*W[1] + X[2]*W[2] + X[3]*W[3]  # 1 more item in each array for bias\n",
    "z  # same value!"
   ]
  },
  {
   "cell_type": "markdown",
   "metadata": {},
   "source": [
    "**Using np.dot**: To compute everything the exact same way, we can use the dot product. Observe how np.dot gives the same value as above."
   ]
  },
  {
   "cell_type": "code",
   "execution_count": 7,
   "metadata": {},
   "outputs": [
    {
     "name": "stdout",
     "output_type": "stream",
     "text": [
      "CPU times: user 58 µs, sys: 9 µs, total: 67 µs\n",
      "Wall time: 63.9 µs\n"
     ]
    },
    {
     "data": {
      "text/plain": [
       "0.39"
      ]
     },
     "execution_count": 7,
     "metadata": {},
     "output_type": "execute_result"
    }
   ],
   "source": [
    "%%time\n",
    "X = np.array(X)\n",
    "W = np.array(W)\n",
    "\n",
    "z = np.dot(X, W)\n",
    "z"
   ]
  },
  {
   "cell_type": "markdown",
   "metadata": {},
   "source": [
    "## Comparisons using a network diagram\n",
    "### Simple linear regression\n",
    "Using the same example as above with 3 features and 1 target, we will now draw a network diagram to show how calculations are related to each other. Keep in mind: **Each node below represents ONE number. In reality, these numbers come from the sample whose prediction we are calculating. Each branch represents fixed weights from our model.** The bias/intercept also gets added, but we will not draw a line for it since it does not interact with a feature. Thus, our network looks something like this:\n",
    "\n",
    "<img src=\"linreg.PNG\" alt=\"Linear Regression\" style=\"width: 600px;\"/>\n",
    "\n",
    "The number of input nodes equals the number of features. Each new sample's values will enter the network in the input layer, get multiplied by the weight on the corresponding branch. After, everything will be summed up in the ouput layer node. This is the node's value which happens to be the prediction in this case.\n",
    "\n",
    "Later, if this function is in the hidden layer (between the input and output layer), we will be passing this sum in more complex functions to add non-linear features. These functions are called activation functions and they will be explained shortly."
   ]
  },
  {
   "cell_type": "markdown",
   "metadata": {},
   "source": [
    "### Neural network\n",
    "\n",
    "The following is a diagram of a neural network for the same problem. Just like before, you should think of each node as a single number coming from an observation and each connection as a fixed weight. Let's compare it to the network above:\n",
    "\n",
    "<img src=\"wholenetwork.PNG\" alt=\"Simple NN\" style=\"width: 1200px;\"/>\n",
    "\n",
    "We see that this network consists of an input layer and hidden layer connected by a weight matrix $W_0$ along with a weight matrix $ W_1 $ which connects the hidden layer to the final output layer.\n",
    "\n",
    "So essentially, the input layer has one node for each feature of x, just as we saw in the figure above. So, if we had a observation with feature values 0, 0.2, 0.9 (as in our coding example), here's what we would do.\n",
    "\n",
    "- Step 1: Each value will occupy one input layer node.\n",
    "\n",
    "<img src=\"inputsweights.PNG\" alt=\"Calculating Node 1 Inputs\" style=\"width: 1200px;\"/>\n",
    "\n",
    "- Step 2:  These values are then multiplied by weights represented by lines attaching them to the next node and sum them. So, -0.4\\*0 + 0.6\\*0.2 + 0.3\\*0.9 = 0.39.\n",
    "- Step 3: We **then add the bias** for the node, so 0.39 + 0.8 = 1.19. This is now the hidden node's input.\n",
    "- Step 4: We then often pass this value through something called an activation function which can model non-linearity. So, this node outputs $activation(1.19)$. Options for the activation function will be discussed below. The activation function's output is known as the hidden node's output.\n",
    "\n",
    "<img src=\"singlenode.PNG\" alt=\"Close Up on Node\" style=\"width: 1200px;\"/>\n",
    "\n",
    "The output from this node is then multiplied by the weight connecting it with the output layer. The output layer's input is thus a sum of each of the last hidden layer's outputs multiplied by the correspoding weight. A final activation is then used to make the prediction fit the possible value range of the output.\n",
    "\n",
    "<img src=\"output weights.PNG\" alt=\"Steps for Final Calculation\" style=\"width: 1200px;\"/>\n",
    "\n",
    "So, the final prediction would be: $\\hat y = activation(z_{0} * w_{1,0} + z_{1} * w_{1,1} + ... + z_{3}*w_{1,3} + b_{y})$\n",
    "\n",
    "This same logic is followed for multiple hidden layers or extra nodes in hidden layers.\n",
    "\n",
    "What can we optimize in a neural network? We can optimize:\n",
    "- weights & biases\n",
    "- activation functions (non-linear functions which transform node inputs to its output)\n",
    "- number of hidden layers\n",
    "- number of nodes per hidden layer\n",
    "\n",
    "We cannot change:\n",
    "- input values in the first layer (these are observation values!)\n",
    "- input layer size (number of features)\n",
    "- output layer size (slight format change possible for binary classification, shouldn't affect results)\n",
    "\n",
    "**Terminology**: nodes are also called a neurons or perceptrons."
   ]
  },
  {
   "cell_type": "markdown",
   "metadata": {},
   "source": [
    "## Toy Data Generation: Regression\n",
    "Let's create some regression data to play with. We are going to generate multiple variables with conditional impacts on our target variable. If we were to liken to this to a real-world problem, we need to choose one with a continuous target. For example, we could say that our target variable is the final grade on an exam (0 to 100%). One of our variables could represent average hours of sleep per night, another could be an indicator for if the student completed the assignments in class and another could be class attendence. Some of these variables generated below affect our target variable, others serve just to confuse the model. Of course in real life, you would want to remove any variables which you suspect are irrelevant.\n",
    "\n",
    "**We will take the 5th observation from this generated dataset to make a prediction from our neural network below for illustration.** "
   ]
  },
  {
   "cell_type": "code",
   "execution_count": 8,
   "metadata": {},
   "outputs": [],
   "source": [
    "from sklearn.datasets import make_regression\n",
    "\n",
    "n = 1000  # number of observations in our simulation\n",
    "k = 15    # number of features in X in our simulation\n",
    "\n",
    "XX, Y = make_regression(n_samples=n, n_features=k, random_state=888)\n",
    "\n",
    "Y = Y.reshape(n, 1)  # ensure that y has the right shape for later"
   ]
  },
  {
   "cell_type": "code",
   "execution_count": 9,
   "metadata": {},
   "outputs": [
    {
     "name": "stdout",
     "output_type": "stream",
     "text": [
      "(1000, 15) (1000, 1)\n"
     ]
    }
   ],
   "source": [
    "print(XX.shape, Y.shape)"
   ]
  },
  {
   "cell_type": "code",
   "execution_count": 10,
   "metadata": {},
   "outputs": [
    {
     "data": {
      "image/png": "[encoded data removed]",
      "text/plain": [
       "<Figure size 432x288 with 1 Axes>"
      ]
     },
     "metadata": {
      "needs_background": "light"
     },
     "output_type": "display_data"
    }
   ],
   "source": [
    "# Plot of the distribution of the target\n",
    "sns.histplot(Y, legend=False, kde=True)\n",
    "plt.xlabel('$y$');"
   ]
  },
  {
   "cell_type": "markdown",
   "metadata": {},
   "source": [
    "# Forward Pass\n",
    "When we input data into our neural network to make a prediction, this is called a forward pass. The first forward pass is a unique one because we will start by using random weights. As you can imagine, this calculation will probably not be very good, but we will discuss optimization later. So, future forward passes should see improvement on the first."
   ]
  },
  {
   "cell_type": "markdown",
   "metadata": {},
   "source": [
    "## Input Layer & Output Layer\n",
    "When designing a simple neural network, your first job is to determine how many input features you have and what your output looks like. The input layer must have as many nodes as there are features. Our first neural network will be a **regression** which predicts a single continuous number. As such, the output layer size will be 1 since we are predicting one single number. \n",
    "\n",
    "- Input layer size: number of features in X\n",
    "- Output layer size: number of values to predict (1 for regression, 1 or 2 for binary classification [difference will be described later], 1 per possible label for multiclass)"
   ]
  },
  {
   "cell_type": "markdown",
   "metadata": {},
   "source": [
    "## Hidden Layers\n",
    "So, how are we going to connect our input layer to our output layer with nodes in between? Every problem will likely have different optimal combinations. It will be up to you to choose a) how many hidden layers you want between your input and output layer, b) how many nodes will be included in each layer. A NN with one hidden layer of one node (and no activation function, see below) is equivalent to ordinary linear regression. Roughly speaking, bigger networks with more nodes and hidden layers facilitate capturing more complex relationships in data. However, large networks are also more vulnerable to overfitting and computationally expensive (i.e. training takes longer). Also, adding more nodes and parameters increase the number of free parameters (i.e. weights), so avoid making complex networks for no reason.\n",
    "\n",
    "In the real world you will have to do some experimenting to find which archicture suits your problem. Don't be afraid to look at how others have tackled the same situation. You can also borrow ideas from previous BADS lectures and use tools like Grid Search here as well. A good idea is to start with a simple network and add complexity.\n",
    "\n",
    "**Terminology**: the **size** of your neural network is the number of nodes in total. The **width** is the number of nodes in one layer. The **depth** is the number of layers in the network. The **architecture** is how the layers and nodes in the network are configured. Whether you include input and output layers in counts is ambiguous, but it's good to make clear. "
   ]
  },
  {
   "cell_type": "code",
   "execution_count": 11,
   "metadata": {},
   "outputs": [],
   "source": [
    "# Determine the structure of our first NN with regression\n",
    "inputLayer_size = k    # number of features in X\n",
    "hiddenLayer_size = 10  # just a guess of 2/3 the size of the input layer, experimentation needed\n",
    "outputLayer_size = 1   # number of values to predict"
   ]
  },
  {
   "cell_type": "markdown",
   "metadata": {},
   "source": [
    "**Now let's take the 5th observation for our sample prediction in subsequent cells**"
   ]
  },
  {
   "cell_type": "code",
   "execution_count": 12,
   "metadata": {},
   "outputs": [
    {
     "data": {
      "text/plain": [
       "(15, 1)"
      ]
     },
     "execution_count": 12,
     "metadata": {},
     "output_type": "execute_result"
    }
   ],
   "source": [
    "# This will not work since, for matrix multiplication, we need a kx1 vector\n",
    "X = np.array(XX[5]).reshape((inputLayer_size, 1))\n",
    "X.shape  # This should be kx1"
   ]
  },
  {
   "cell_type": "code",
   "execution_count": 13,
   "metadata": {},
   "outputs": [
    {
     "data": {
      "text/plain": [
       "(1, 1)"
      ]
     },
     "execution_count": 13,
     "metadata": {},
     "output_type": "execute_result"
    }
   ],
   "source": [
    "y = Y[5].reshape((outputLayer_size, 1))\n",
    "y.shape  # since our data is a single value regression for a single observation, we should see (1, 1) here"
   ]
  },
  {
   "cell_type": "markdown",
   "metadata": {},
   "source": [
    "## Weight Initialization (only in **first** forward pass)\n",
    "In a normal linear or logistic regression, we can optimize immediately using our objective function. As you may have noticed with neural networks, this will be impossible with all of the parameters. When conducting a first forward pass, you will choose weights randomly. This is just the starting point. We will later optimize the weights to improve the performance of our NN using an approach called back propagation. Note that a completely random initialization of weights has been shown to not work well. The problem is that completely random initialization may lead to neurons getting saturated. Glorot and Bengio (2010) recommend to initialize weights randomly in a bounded intervall accoding to the following recipe, which we will follow in our demo:\n",
    "\n",
    "$$ limit = \\sqrt{\\frac{6}{{in} + out}} $$\n",
    "\n",
    "where $in$ and $out$ represent the number of incoming and outgoing connections, respectively. You can then initialize weights to random numbers in the range $(-limit,limit)$. \n",
    "\n",
    "**Again, even with this advice, our first forward pass will do poorly. This is expected. We only aim to walk you through the calculations. Network optimization is in part 2.**"
   ]
  },
  {
   "cell_type": "code",
   "execution_count": 15,
   "metadata": {},
   "outputs": [],
   "source": [
    "# Set the limit as recommended by the paper\n",
    "limit = np.sqrt(6 / (inputLayer_size + outputLayer_size))\n",
    "\n",
    "# Generate random weights for 0: input layer to hidden layer and 1: hidden layer to output layer\n",
    "W_0 = np.random.uniform(-limit, limit, (hiddenLayer_size, inputLayer_size)) # input to hidden\n",
    "W_1 = np.random.uniform(-limit, limit, (outputLayer_size, hiddenLayer_size)) # hidden to output\n",
    "\n",
    "# Generate random biases for 0: input layer to hidden layer and 1: hidden layer to output layer\n",
    "B_0 = np.ones((hiddenLayer_size, 1))   # for sigmoid (classification), you can use np.zeros\n",
    "B_1 = np.ones((outputLayer_size, 1))"
   ]
  },
  {
   "cell_type": "code",
   "execution_count": 12,
   "metadata": {},
   "outputs": [
    {
     "data": {
      "text/plain": [
       "((10, 15), (15, 1), (1, 10), (1, 1))"
      ]
     },
     "execution_count": 12,
     "metadata": {},
     "output_type": "execute_result"
    }
   ],
   "source": [
    "# Show matrices of weights\n",
    "W_0.shape, X.shape, W_1.shape, y.shape"
   ]
  },
  {
   "cell_type": "markdown",
   "metadata": {},
   "source": [
    "Let's take a look at what goes into the calculation of our first hidden layer node $z_{0}$:\n",
    "$$z_{0}= w_{0,0}x_{0}+w_{0,1}x_{1}+w_{0,2}x_{2}+w_{0,3}x_{3}+...+w_{0,k}x_{k} + bias_0$$\n",
    "\n",
    "Let's do this in our code below, **remember the results are only for the 5th observation**:"
   ]
  },
  {
   "cell_type": "code",
   "execution_count": 13,
   "metadata": {},
   "outputs": [
    {
     "data": {
      "text/plain": [
       "array([[ 1.74552453],\n",
       "       [ 1.19415323],\n",
       "       [-0.81280847],\n",
       "       [-1.2191316 ],\n",
       "       [ 0.1765132 ]])"
      ]
     },
     "execution_count": 13,
     "metadata": {},
     "output_type": "execute_result"
    }
   ],
   "source": [
    "Z_hidden = np.dot(W_0, X) + B_0\n",
    "Z_hidden[:5]  # these are the first five nodes' input values"
   ]
  },
  {
   "cell_type": "markdown",
   "metadata": {},
   "source": [
    "This is all good so far, but how can we add some more flexibility? Linear regression is quite rigid in what it can predict."
   ]
  },
  {
   "cell_type": "markdown",
   "metadata": {},
   "source": [
    "## Activation Functions\n",
    "If we think that the relationships in our data are non-linear, we should allow the neural network to express this somehow. Unfortunately, if each node is like its own linear regression, this will not be possible. Instead of using the expression $y=\\beta_{0}+\\beta_{1}x_{1}+\\beta_{2}x_{2}+...+\\beta_{k}x_{k}+e$ directly for each node, we can pass the final value of this expression through a non-linear function. These are called activation functions and there are quite a few to choose from.\n",
    "\n",
    "In theory, activation functions could be anything. So if our activation function was simply $x^2$, and the value entering the neuron was $4$, then the neuron would output $16$. Below we have a list of the most common activation functions and their derivatives which we will need for optimization later."
   ]
  },
  {
   "cell_type": "markdown",
   "metadata": {},
   "source": [
    "### Note: Think about your final activation function\n",
    "The activation function in the output layer is called the final activation. It is particularly important because you can specify the range of values  in your output. If we have a **regression** problem, the final activation function is normally either a linear function (no activation), ReLU (if your output must be positive) or leaky ReLU. These functions allow outputs of any number. \n",
    "\n",
    "Sigmoid functions have an output range from 0 to 1. **If your regression output value range is fixed** (eg. percent score on a test which ranges from 0 to 100), **you can min-max scale your target before it enters the neural network, use a sigmoid as activation and then inverse transform your data**. This will ensure predictions remain in the range of your data. You can also use $tanh$ (explained below) in this case as it has the same functional form but its range is between -1 and 1.\n",
    "\n",
    "Let's take a look at some of the most common activation functions that we can use. These aren't the only ones that exist but they are the most popular."
   ]
  },
  {
   "cell_type": "markdown",
   "metadata": {},
   "source": [
    "### Linear Activation\n",
    "One critical activation function for regression functions is the simple linear activation. This function does not transform the input whatsoever.\n",
    "$$f(x) = x$$\n",
    "\n",
    "You can generally use this as the final activation for regression problems. However, if you believe that the relationships in your data are non-linear, your hidden layers should use a different activation. Below, we introduce some of the most popular non-linear options.\n",
    "\n",
    "The derivative of the linear activation is just a constant, 1. When we work with gradients in part 2 for optimization, note that the final layer activation in most regression scenarios will not use this gradient to optimize as its derivative is always 1."
   ]
  },
  {
   "cell_type": "markdown",
   "metadata": {},
   "source": [
    "### Rectified Linear Unit (ReLU)\n",
    "The rectified linear unit or ReLU is one of the most common activation functions which can be defined as:\n",
    "$$\\text{ReLU}(x) = \\max(0,x)$$\n",
    "\n",
    "Considering the fact that these activation functions are supposed to add non-linearity, it can be initially pretty confusing how such a functional form could be non-linear. The real power of ReLU functions comes from their ability to use weights and multiple layers to mould different shapes using these lines. Check out this [video](https://youtu.be/gmjzbpSVY1A?t=550) with a live demonstration which gives a great idea of how this works. This activation function can be used in any layer and the final layer for regression problems.\n",
    "\n",
    "You can use this as the final activation function if your output must be strictly positive.\n",
    "\n",
    "For optimization, it will be important to derive this equation as well. Its derivative is extremely simple which is also a very attractive feature.\n",
    "$$\\begin{aligned}\n",
    "\\begin{cases}\n",
    "      \\frac{d\\text{ReLU}}{dx} = 1, & \\text{if} \\ x>0 \\\\\n",
    "      \\frac{d\\text{ReLU}}{dx} = 0, & \\text{ otherwise }\n",
    "\\end{cases}\n",
    "\\end{aligned}$$"
   ]
  },
  {
   "cell_type": "code",
   "execution_count": 17,
   "metadata": {},
   "outputs": [
    {
     "data": {
      "image/png": "[encoded data removed]",
      "text/plain": [
       "<Figure size 432x288 with 1 Axes>"
      ]
     },
     "metadata": {
      "needs_background": "light"
     },
     "output_type": "display_data"
    }
   ],
   "source": [
    "def ReLU(x):\n",
    "    return np.maximum(0, x)\n",
    "\n",
    "\n",
    "def ReLU_derivative(x):\n",
    "    return (ReLU(x) > 0).astype(int)\n",
    "\n",
    "\n",
    "plt.plot(range_for_demo, ReLU(range_for_demo), label=\"f(x)\")\n",
    "plt.plot(range_for_demo, ReLU_derivative(range_for_demo), label=\"f'(x)\")\n",
    "plt.legend(loc='best')\n",
    "plt.grid(True)\n",
    "plt.xlabel('x')\n",
    "plt.ylabel('f(x)')\n",
    "plt.show()"
   ]
  },
  {
   "cell_type": "markdown",
   "metadata": {},
   "source": [
    "### Leaky ReLU\n",
    "The leaky rectified linear unit or leaky ReLU is another common activation function defined as:\n",
    "\n",
    "$$\\begin{aligned}\n",
    "\\text{leaky ReLU}(x) = \n",
    "\\begin{cases}\n",
    "      x, & \\text{if} \\ x>0 \\\\\n",
    "      \\alpha x, & \\ x≤0\n",
    "\\end{cases}\n",
    "\\end{aligned}$$\n",
    "\n",
    "$a$ is normally chosen to be 0.01. \n",
    "\n",
    "Leaky ReLU was introduced to give negative inputs a little more flexibility. This could prevent potential stalls in learning caused by ReLU functions only receiving negative inputs and not learning. This activation function can be used in any layer and the final layer for regression problems.\n",
    "\n",
    "Here is the derivative for this function which is also easy to derive:\n",
    "\n",
    "$$\\begin{aligned}\n",
    "\\begin{cases}\n",
    "      \\frac{d\\text{leaky ReLU}}{dx} = 1, & \\text{if} \\ x>0 \\\\\n",
    "      \\frac{d\\text{leaky ReLU}}{dx} = a, & \\text{ otherwise }\n",
    "\\end{cases}\n",
    "\\end{aligned}$$"
   ]
  },
  {
   "cell_type": "code",
   "execution_count": 15,
   "metadata": {},
   "outputs": [
    {
     "data": {
      "image/png": "[encoded data removed]",
      "text/plain": [
       "<Figure size 432x288 with 1 Axes>"
      ]
     },
     "metadata": {
      "needs_background": "light"
     },
     "output_type": "display_data"
    }
   ],
   "source": [
    "def leakyReLU(x):\n",
    "    return np.where(x > 0, x, x*0.01)\n",
    "\n",
    "def leakyReLU_derivative(x):\n",
    "    return np.where(x > 0, 1, 0.01)\n",
    "\n",
    "\n",
    "plt.plot(range_for_demo, leakyReLU(range_for_demo), label=\"f(x)\")\n",
    "plt.plot(range_for_demo, leakyReLU_derivative(range_for_demo), label=\"f'(x)\")\n",
    "plt.legend(loc='best')\n",
    "plt.grid(True)\n",
    "plt.xlabel('x')\n",
    "plt.ylabel('f(x)')\n",
    "plt.show()"
   ]
  },
  {
   "cell_type": "markdown",
   "metadata": {},
   "source": [
    "### Sigmoid\n",
    "The sigmoid should be familiar to you already, this is the same as the logit function that we have seen in BADS:\n",
    "$$\\text{sigmoid}(x) = \\frac{1}{1+e^{-x}} $$\n",
    "\n",
    "This function gives outputs between 0 and 1. This function is especially useful as final output activation for binary problems. You can also use it as an activation function in any other layer.\n",
    "\n",
    "The derivative of the sigmoid is not as straightforward as the ReLU functions above. However, you should not find it particularly difficult either.\n",
    "\n",
    "Firstly, remember the quotient rule. If we have a function of the following form:\n",
    "$$ f(x) = \\frac{g(x)}{h(x)}$$\n",
    "The derivative is:\n",
    "$$ f'(x) = \\frac{g'(x)h(x) - g(x)h'(x)}{[h(x)]^2}$$\n",
    "\n",
    "So, if $g(x)$ is $1$ and $h(x)$ is $1+e^{-x}$, our problem is much easier. Here are the parts:\n",
    "$$g(x) = 1$$\n",
    "$$g'(x) = 0$$\n",
    "\n",
    "\n",
    "$$h(x) = 1+e^{-x}$$\n",
    "$$h'(x) = -e^{-x}$$\n",
    "\n",
    "Now let's begin calculating $\\frac{d\\text{sigmoid}}{dx}$: \n",
    "\n",
    "$$\\begin{aligned}\n",
    "& = \\frac{d}{dx} \\frac{1}{1+e^{-x}} \\\\\n",
    "& = \\frac{0 \\cdot (1+e^{-x}) - 1 \\cdot (-e^{-x})}{(1+e^{-x})^{2}} \\\\\n",
    "& = \\frac{e^{-x}}{(1+e^{-x})^{2}}\\\\\n",
    "&= \\frac{1}{(1+e^{-x})} \\cdot \\frac{e^{-x}}{(1+e^{-x})}\\\\\n",
    "& = \\frac{1}{(1+e^{-x})} \\cdot \\frac{e^{-x}+1-1}{(1+e^{-x})}\\\\\n",
    "& = \\frac{1}{(1+e^{-x})} \\cdot \\bigg( \\frac{(1+e^{-x})}{(1+e^{-x})} - \\frac{1}{(1+e^{-x})} \\bigg)\\\\\n",
    "&= \\frac{1}{1+e^{-x}} \\cdot \\bigg(1 - \\frac{1}{1+e^{-x}} \\bigg)\\\\\n",
    "& = \\text{sigmoid}(x)\\cdot(1-\\text{sigmoid}(x)) \\\\\n",
    "\\end{aligned}$$\n",
    "\n",
    "And just like that, you have another relatively simple derivative to work with!"
   ]
  },
  {
   "cell_type": "code",
   "execution_count": 16,
   "metadata": {},
   "outputs": [
    {
     "data": {
      "image/png": "[encoded data removed]",
      "text/plain": [
       "<Figure size 432x288 with 1 Axes>"
      ]
     },
     "metadata": {
      "needs_background": "light"
     },
     "output_type": "display_data"
    }
   ],
   "source": [
    "def sigmoid(x):\n",
    "    return 1 / (1 + np.exp(-x))\n",
    "\n",
    "def sigmoid_derivative(x):\n",
    "    s = sigmoid(x)\n",
    "    return s * (1-s)\n",
    "\n",
    "plt.plot(range_for_demo, sigmoid(range_for_demo), label='f(x)')\n",
    "plt.plot(range_for_demo, sigmoid_derivative(range_for_demo), label=\"f(x)'\")\n",
    "plt.grid(True)\n",
    "plt.xlabel('$x$')\n",
    "plt.ylabel('$f(x)$')\n",
    "plt.legend(loc='best')\n",
    "plt.show()"
   ]
  },
  {
   "cell_type": "markdown",
   "metadata": {},
   "source": [
    "### Hyperbolic Tangent (tanh)\n",
    "This function is maybe something familiar to you from a trigonometry unit in a math class:\n",
    "$$\\text{tanh}(x) = \\frac{e^x-e^{-x}}{e^x+e^{-x}} $$\n",
    "\n",
    "Its outputs are always between -1 and 1. This function is especially useful as final output activation for binary problems. You can also use it as an activation function in any other layer.\n",
    "\n",
    "When deriving this function, we can first make our lives much easier with a little shortcut to break tanh into sinh and cosh:\n",
    "$$\\text{tanh}(x) = \\frac{\\text{sinh}(x)}{\\text{cosh}(x)}$$\n",
    "\n",
    "That means we can use the quotient rule which we already used in the previous function to calculate this derivative.\n",
    "\n",
    "$$\\begin{aligned} &f(x) = \\frac{g(x)}{h(x)} \\\\\n",
    "& f'(x) = \\frac{g'(x)h(x) - g(x)h'(x)}{[h(x)]^2} \\end{aligned}$$\n",
    "\n",
    "So, if $g(x)$ is $\\text{sinh}(x)$ and $h(x)$ is $\\text{cosh}(x)$, our problem is much easier. Remember from trigonometry that they are derivatives of each other. Here are the parts:\n",
    "$$g(x) = \\text{sinh}(x)$$\n",
    "$$g'(x) = \\text{cosh}(x)$$\n",
    "\n",
    "\n",
    "$$h(x) = \\text{cosh}(x)$$\n",
    "$$h'(x) = \\text{sinh}(x)$$\n",
    "\n",
    "Now let's begin calculating $\\frac{d\\text{tanh}(x)}{dx}$: \n",
    "\n",
    "$$\\begin{aligned}\n",
    "& = \\frac{d}{dx}\\text{tanh}(x)\\\\\n",
    "& = \\frac{\\frac{d}{dx}\\text{sinh}(x)\\cdot \\text{cosh}(x)- \\frac{d}{dx}\\text{cosh}(x)\\cdot \\text{sinh}(x)}{\\text{cosh}^2(x)}\\\\\n",
    "& = \\frac{\\text{cosh}^2(x) - \\text{sinh}^2(x)}{\\text{cosh}^2(x)}\\\\\n",
    "& = 1 - \\frac{\\text{sinh}^2(x)}{\\text{cosh}^2(x)}\\\\\n",
    "& = 1 - \\text{tanh}^2(x)\\\\\n",
    "\\end{aligned}$$"
   ]
  },
  {
   "cell_type": "code",
   "execution_count": 17,
   "metadata": {},
   "outputs": [
    {
     "data": {
      "image/png": "[encoded data removed]",
      "text/plain": [
       "<Figure size 432x288 with 1 Axes>"
      ]
     },
     "metadata": {
      "needs_background": "light"
     },
     "output_type": "display_data"
    }
   ],
   "source": [
    "def tanH(x):\n",
    "    return (np.exp(x)-np.exp(-x)) / (np.exp(x)+np.exp(-x))\n",
    "\n",
    "\n",
    "def tanH_derivative(x):\n",
    "    return 1-tanH(x)**2\n",
    "\n",
    "plt.plot(range_for_demo, tanH(range_for_demo), label=\"f(x)\")\n",
    "plt.plot(range_for_demo, tanH_derivative(range_for_demo), label=\"f'(x)\")\n",
    "plt.legend(loc='best')\n",
    "plt.grid(True)\n",
    "plt.xlabel('x')\n",
    "plt.ylabel('f(x)')\n",
    "plt.show()"
   ]
  },
  {
   "cell_type": "markdown",
   "metadata": {},
   "source": [
    "Let's quickly refresh what each neuron's input is for the fifth observation. Let's look at the first five neurons."
   ]
  },
  {
   "cell_type": "code",
   "execution_count": 18,
   "metadata": {},
   "outputs": [
    {
     "data": {
      "text/plain": [
       "array([[ 1.74552453],\n",
       "       [ 1.19415323],\n",
       "       [-0.81280847],\n",
       "       [-1.2191316 ],\n",
       "       [ 0.1765132 ]])"
      ]
     },
     "execution_count": 18,
     "metadata": {},
     "output_type": "execute_result"
    }
   ],
   "source": [
    "Z_hidden[:5]"
   ]
  },
  {
   "cell_type": "markdown",
   "metadata": {},
   "source": [
    "Now let's pass our hidden layer's inputs through the activation function. You can try doing this with a leaky ReLU as well!"
   ]
  },
  {
   "cell_type": "code",
   "execution_count": 19,
   "metadata": {},
   "outputs": [
    {
     "data": {
      "text/plain": [
       "array([[1.74552453],\n",
       "       [1.19415323],\n",
       "       [0.        ],\n",
       "       [0.        ],\n",
       "       [0.1765132 ]])"
      ]
     },
     "execution_count": 19,
     "metadata": {},
     "output_type": "execute_result"
    }
   ],
   "source": [
    "H = ReLU(Z_hidden)\n",
    "H[:5]  # these are the first five nodes' output values (after activation)"
   ]
  },
  {
   "cell_type": "markdown",
   "metadata": {},
   "source": [
    "## Finish the prediction for first forward pass of fifth observation\n",
    "We will now try to make predictions using the architecture we have specified and the weights (coefficients) that we have chosen. We run observations into the model and the first predictions will be completed with our initialized weights for the first go. We will then discuss how to optimize weights in the Back Propagation section."
   ]
  },
  {
   "cell_type": "code",
   "execution_count": 20,
   "metadata": {},
   "outputs": [
    {
     "data": {
      "text/plain": [
       "array([[-0.97237793]])"
      ]
     },
     "execution_count": 20,
     "metadata": {},
     "output_type": "execute_result"
    }
   ],
   "source": [
    "Z_output = np.dot(W_1, H) + B_1  # sum of next layer of weights*respective node then add bias\n",
    "Z_output  # If this was passed through a ReLU, what do you expect would happen? What if its sign was flipped?"
   ]
  },
  {
   "cell_type": "markdown",
   "metadata": {},
   "source": [
    "Now that we have calculated the inputs for the output layer, now time to apply the final activation to get the output of the output layer (prediction)."
   ]
  },
  {
   "cell_type": "code",
   "execution_count": 21,
   "metadata": {},
   "outputs": [
    {
     "data": {
      "text/plain": [
       "array([[0.]])"
      ]
     },
     "execution_count": 21,
     "metadata": {},
     "output_type": "execute_result"
    }
   ],
   "source": [
    "y_hat = Z_output  # In this case, this is just the linear activation f(x)=x, common for regression problems\n",
    "y_hat"
   ]
  },
  {
   "cell_type": "markdown",
   "metadata": {},
   "source": [
    "Let's check the result and compare it with the 5th observation's true target value."
   ]
  },
  {
   "cell_type": "code",
   "execution_count": 22,
   "metadata": {},
   "outputs": [
    {
     "data": {
      "text/plain": [
       "array([[64.42142556]])"
      ]
     },
     "execution_count": 22,
     "metadata": {},
     "output_type": "execute_result"
    }
   ],
   "source": [
    "y"
   ]
  },
  {
   "cell_type": "markdown",
   "metadata": {},
   "source": [
    "Did you expect much with randomly initialized weights for our first pass? Don't worry, the magic of neural networks is in the next part of the tutorial on back propagation. This can be complex but it is critical for the optimization of weights in the network to achieve the accuracy that neural networks are known for."
   ]
  },
  {
   "cell_type": "markdown",
   "metadata": {},
   "source": [
    "## First forward pass predictions for all observations\n",
    "\n",
    "If you want to use the code above to predict for all observations, you just need some minor tweaks."
   ]
  },
  {
   "cell_type": "code",
   "execution_count": 18,
   "metadata": {},
   "outputs": [
    {
     "data": {
      "text/plain": [
       "(1, 1000)"
      ]
     },
     "execution_count": 18,
     "metadata": {},
     "output_type": "execute_result"
    }
   ],
   "source": [
    "# Forward pass\n",
    "XX = np.array(XX).reshape((inputLayer_size, n)) # whole dataset, use n instead of 1\n",
    "y = Y.reshape((outputLayer_size, n))            # true value of target, use n instead of 1\n",
    "Z_hidden = np.dot(W_0, XX) + B_0                # hidden layer inputs\n",
    "H = ReLU(Z_hidden)                              # hidden layer output (after activation)\n",
    "Z_output = np.dot(W_1, H) + B_1                 # input to output layer\n",
    "y = Z_output                                    # activation applied to output layer = prediction!\n",
    "y.shape                                         # shape of first forward pass predictions"
   ]
  },
  {
   "cell_type": "markdown",
   "metadata": {},
   "source": [
    "In the next notebook, we will discuss the role of measuring loss in the optimization of the network which is a bit more complex than what we have covered previous models in BADS."
   ]
  },
  {
   "cell_type": "markdown",
   "metadata": {},
   "source": [
    "# Overview of Forward Pass\n",
    "Quick reiteration of what happened in the forward pass:\n",
    "- We can liken a single node in a layer of neural network to a linear regression (weights = coefficients)\n",
    "- If we use more hidden layers, we may capture more complex relations in the data\n",
    "- We chose an input layer size equal to the number of features\n",
    "- We chose an output layer size equal to the number of values to predict\n",
    "- We chose a hidden layer size and depth to experiment with\n",
    "- We chose an activation function to add more non-linearity\n",
    "- We initialize with some set of weights (ie. coefficients)\n",
    "- We run the model with training data and observe what it predicts as targets"
   ]
  },
  {
   "cell_type": "markdown",
   "metadata": {},
   "source": [
    "In subsequent notebooks, we will go over back propagation and fitting the neural network for classification problems."
   ]
  }
 ],
 "metadata": {
  "kernelspec": {
   "display_name": "Python 3",
   "language": "python",
   "name": "python3"
  },
  "language_info": {
   "codemirror_mode": {
    "name": "ipython",
    "version": 3
   },
   "file_extension": ".py",
   "mimetype": "text/x-python",
   "name": "python",
   "nbconvert_exporter": "python",
   "pygments_lexer": "ipython3",
   "version": "3.8.13"
  }
 },
 "nbformat": 4,
 "nbformat_minor": 4
}
