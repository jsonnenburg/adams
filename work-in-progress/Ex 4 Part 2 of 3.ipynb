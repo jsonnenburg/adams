{
 "cells": [
  {
   "cell_type": "markdown",
   "metadata": {},
   "source": [
    "# ADAMS Tutorial #4: Neural Networking (NN) Primer\n",
    "## Part 2 of 3\n",
    "This is the second of three notebooks which will cover the foundations of neural networks. Recall that every connection in a neural network carries a weight. Therefore, calculating the *forward pass* requires concrete values for these weights. In the first notebook, we discussed how weights can be initialized randomly. The focus of this notebook is network training. Training is the process by which we update weights and biases to maximize the fit of our network to training data. Network training is, therefore, equivalent to maximum likelihood estimation in regression analysis. \n",
    "\n",
    "## This notebook's topic: back propagation in neural networks ##\n",
    " 1. Overview of the forward pass\n",
    " 2. Caculating loss\n",
    " 2. Finding a minimum\n",
    " 3. Moving towards a minimum\n",
    " 4. One solver for gradient descent: Stochastic gradient descent\n",
    " 5. Stopping Rules\n",
    " 6. Overview of back propagation"
   ]
  },
  {
   "cell_type": "code",
   "execution_count": 1,
   "metadata": {},
   "outputs": [],
   "source": [
    "# Import relevant libraries\n",
    "import pandas as pd\n",
    "import matplotlib.pyplot as plt\n",
    "import math\n",
    "import numpy as np\n",
    "import random\n",
    "\n",
    "np.random.seed(888)  # set seed for reproducibility (numPy functions)\n",
    "random.seed(888)  # set seed for reproducibility (random package functions)\n",
    "\n",
    "range_for_demo = np.linspace(-5, 5, 100)"
   ]
  },
  {
   "cell_type": "code",
   "execution_count": 2,
   "metadata": {},
   "outputs": [],
   "source": [
    "# Generate regression dataset\n",
    "from sklearn.datasets import make_regression\n",
    "\n",
    "n = 1000  # number of observations in our simulation\n",
    "k = 15    # number of features in our simulation\n",
    "\n",
    "XX, Y = make_regression(n_samples=n, n_features=k, noise=5, random_state=888)\n",
    "\n",
    "Y = Y.reshape(n, 1)  # Make sure that y is an array"
   ]
  },
  {
   "cell_type": "markdown",
   "metadata": {},
   "source": [
    "To start, we revisit the forward pass through a neural network. Here, we simply go through the corresponding code. The first part of this series of notebooks explains the steps in detail. "
   ]
  },
  {
   "cell_type": "code",
   "execution_count": 3,
   "metadata": {},
   "outputs": [],
   "source": [
    "# Network architecture:\n",
    "inputLayer_size = k      # number of features in X\n",
    "hiddenLayer_size = 10    # number of hidden layer nodes\n",
    "outputLayer_size = 1     # number of values to predict"
   ]
  },
  {
   "cell_type": "code",
   "execution_count": 5,
   "metadata": {},
   "outputs": [],
   "source": [
    "# Weight initialization for first forward pass\n",
    "\n",
    "limit = np.sqrt(6 / (inputLayer_size + outputLayer_size))  # Recommended weight initialization\n",
    "\n",
    "W_0 = np.random.uniform(-limit, limit, (hiddenLayer_size, inputLayer_size))    # Random weight initialization: input to hidden\n",
    "W_1 = np.random.uniform(-limit, limit, (outputLayer_size, hiddenLayer_size))  # Random weight initialization: hidden to output\n",
    "\n",
    "B_0  = np.ones((hiddenLayer_size,1))  # Bias initialization for hidden layer\n",
    "B_1 = np.ones((outputLayer_size,1))  # Bias initialization for output layer"
   ]
  },
  {
   "cell_type": "code",
   "execution_count": 6,
   "metadata": {},
   "outputs": [],
   "source": [
    "# Activation function that we will use in this scenario and its derivative\n",
    "def ReLU(x):\n",
    "    return np.maximum(0, x)  # 0 if input is negative, x if input is positive\n",
    "\n",
    "\n",
    "def ReLU_derivative(x):\n",
    "    return (x > 0)*1.0"
   ]
  },
  {
   "cell_type": "code",
   "execution_count": 8,
   "metadata": {},
   "outputs": [
    {
     "data": {
      "text/plain": [
       "(1, 1)"
      ]
     },
     "execution_count": 8,
     "metadata": {},
     "output_type": "execute_result"
    }
   ],
   "source": [
    "# First forward pass\n",
    "X = np.array(XX[5]).reshape((inputLayer_size, 1))  # observation 5\n",
    "y = Y[5].reshape((outputLayer_size, 1))  # true value of target\n",
    "Z_hidden = np.dot(W_0, X) + B_0  # first hidden layer inputs\n",
    "H = ReLU(Z_hidden)  # hidden layer output (after activation)\n",
    "Z_output = np.dot(W_1, H) + B_1  # input to output layer\n",
    "y_hat = Z_output  # Here, we will use a linear activation, so the output layer input is already the prediction\n",
    "y_hat.shape  # shape of first forward pass predictions"
   ]
  },
  {
   "cell_type": "markdown",
   "metadata": {},
   "source": [
    "Let's compare the loss and target for this observation. We can see that the random weight initialization is pretty far off."
   ]
  },
  {
   "cell_type": "code",
   "execution_count": 9,
   "metadata": {},
   "outputs": [
    {
     "name": "stdout",
     "output_type": "stream",
     "text": [
      "[[2.29602457]] [[207.75432522]]\n"
     ]
    }
   ],
   "source": [
    "print(y_hat, y)"
   ]
  },
  {
   "cell_type": "markdown",
   "metadata": {},
   "source": [
    "# Back Propagation\n",
    "\n",
    "## Motivation:\n",
    "With a set of random weights, would a prediction be any good? Probably not. However, the magic of neural networks comes from the method to update the complex system of weights. This is known as back propagation or backprop for short. \n",
    "\n",
    "## Calculating loss\n",
    "The first step in back propagation is to calculate the loss. Recall that *loss* is just another term for error. Several measures facilitate calculating the loss of a regression model. Well-known candidates include mean square error, root-mean square error, mean absolute error, and many others. In general, a loss function measures the degree to which the outputs of your model (i.e. neural network) fit the training data. Higher losses indicate a poorer fit. Thus, after computing the loss, we want to minimize it. This minimization is what network training is about. \n",
    "<br>\n",
    "For illustration, we consider the mean square error (MSE) in the following."
   ]
  },
  {
   "cell_type": "code",
   "execution_count": 10,
   "metadata": {},
   "outputs": [],
   "source": [
    "# mean squared error\n",
    "def mse(true, pred):\n",
    "    sse = 0\n",
    "    for i in range(len(true)):\n",
    "        sse += (true[i] - pred[i])**2\n",
    "    mse = (1 / 2*len(true)) * np.sum(sse)\n",
    "    return mse"
   ]
  },
  {
   "cell_type": "markdown",
   "metadata": {},
   "source": [
    "For now, let's calculate the loss from our first model:"
   ]
  },
  {
   "cell_type": "code",
   "execution_count": 11,
   "metadata": {},
   "outputs": [
    {
     "data": {
      "text/plain": [
       "21106.55665236059"
      ]
     },
     "execution_count": 11,
     "metadata": {},
     "output_type": "execute_result"
    }
   ],
   "source": [
    "loss = mse(y, y_hat)\n",
    "loss"
   ]
  },
  {
   "cell_type": "markdown",
   "metadata": {},
   "source": [
    "## Finding a minimum\n",
    "Like a linear regression, we are working with input values along with layers of weights and a biases (= intercepts in the regression). Our loss function is a function of these three elements. Of these three elements, weights and bias are what we can adjust. So, let’s derive our loss function based on those. We will focus on deriving with respect to weights here, but the process for biases is similar.\n",
    "\n",
    "$$\\begin{aligned}\n",
    "&\\frac{\\partial MSE }{\\partial w_j} = \\frac{\\partial}{\\partial w_j} \\frac{1}{2n} \\sum_{i=1}^n (\\hat y - y)^2\\\\\n",
    "&\\frac{\\partial MSE }{\\partial w_j} = \\frac{1}{2n} \\sum_{i=1}^n \\frac{\\partial}{\\partial w_j}  (\\hat y - y)^2\\\\\n",
    "&\\frac{\\partial MSE }{\\partial w_j} = \\frac{1}{2n} \\sum_{i=1}^n 2(\\hat y - y) \\cdot \\frac{\\partial}{\\partial w_j}(\\hat y - y)\\\\\n",
    "\\end{aligned}$$\n",
    "\n",
    "Now at this point, we know that the true $y$ is just a scalar. So its derivative is 0. What is the derivative of $\\hat y$ w.r.t. $w_j$? Well, recall the function of $\\hat y$ :\n",
    "\n",
    "$$\\hat y=w_{0}+w_{1}x_{1}+w_{2}x_{2}+...+w_{k}x_{k}$$ \n",
    "\n",
    "So, the derivative w.r.t. to a single $w_j$ will just be the corresponding $x$ value.\n",
    "\n",
    "$$\\begin{aligned}\n",
    "& \\frac{\\partial MSE }{\\partial w_j} = \\frac{2}{2n} \\sum_{i=1}^n (\\hat y - y) \\cdot \\frac{\\partial \\hat y}{\\partial w_j}\\\\\n",
    "&\\frac{\\partial MSE }{\\partial w_j} = \\frac{1}{n} \\sum_{i=1}^n (\\hat y - y) \\cdot x_j \\\\\n",
    "\\end{aligned}$$\n",
    "\n",
    "note that if $ w_0 $ is the intercept, we would set $ x=1 $.\n",
    "\n",
    "Consider: Our loss function is a function of the true value and our NN’s output. Our NN’s output is a function of the last nodes’ outputs. Our last nodes’ outputs are all a function of their own input values, weights and biases. We’re lucky that we can simply use the chain rule to calculate the derivatives for each parameter! We will then have to organize our derivatives into gradients which are vectors of derivatives of different variables from the same function. For full optimization, we will need to calculate this derivative for every observation as well. We will discuss a simplification technique for this called stochastic gradient descent later.\n",
    "\n",
    "So for each observation, we have to calculate: \n",
    "\n",
    "$$ \\Bigg[ \\frac{\\partial MSE }{\\partial w_0},  \\frac{\\partial MSE }{\\partial w_1}, \\frac{\\partial MSE }{\\partial w_2}, ... ,  \\frac{\\partial MSE }{\\partial w_k} \\Bigg] $$"
   ]
  },
  {
   "cell_type": "code",
   "execution_count": 12,
   "metadata": {},
   "outputs": [],
   "source": [
    "def mse_derivative(true, pred, x):\n",
    "    n = len(x)\n",
    "    loss_d = (1/n) * np.sum((pred-true)*x)\n",
    "    return loss_d.reshape(1, 1)"
   ]
  },
  {
   "cell_type": "code",
   "execution_count": 13,
   "metadata": {},
   "outputs": [
    {
     "data": {
      "text/plain": [
       "array([[-34.59523178]])"
      ]
     },
     "execution_count": 13,
     "metadata": {},
     "output_type": "execute_result"
    }
   ],
   "source": [
    "loss_derivative = mse_derivative(Y[5], y_hat, XX[5])  # loss derivative\n",
    "loss_derivative"
   ]
  },
  {
   "cell_type": "code",
   "execution_count": 14,
   "metadata": {},
   "outputs": [
    {
     "data": {
      "text/plain": [
       "1"
      ]
     },
     "execution_count": 14,
     "metadata": {},
     "output_type": "execute_result"
    }
   ],
   "source": [
    "activation_derivative = 1  # if the final activation is linear f(x) = x, then its derivative is 1\n",
    "activation_derivative"
   ]
  },
  {
   "cell_type": "markdown",
   "metadata": {},
   "source": [
    "Remember that the output layer's output is a function of the following:\n",
    "- the output layer's inputs\n",
    "- the hidden layer's outputs\n",
    "- the hidden layer's inputs\n",
    "- the original X values\n",
    "\n",
    "We will need to update all weights connecting these together."
   ]
  },
  {
   "cell_type": "code",
   "execution_count": 15,
   "metadata": {},
   "outputs": [
    {
     "name": "stdout",
     "output_type": "stream",
     "text": [
      "Shape of first weights (1, 10)\n",
      "Shape of gradient vector (10, 1)\n",
      "Shape of input (15, 1)\n"
     ]
    }
   ],
   "source": [
    "# Update weights closest to the output layer (between hidden and output layer)\n",
    "gradient_HiddenToOutput = np.dot(loss_derivative*activation_derivative, np.transpose(H))\n",
    "gradient_HiddenToOutput.shape\n",
    "\n",
    "# Update output layer biases\n",
    "gradient_HiddenToOutput_bias = loss_derivative*activation_derivative\n",
    "\n",
    "# Save the error of the output layer\n",
    "pred_errors = loss_derivative * activation_derivative\n",
    "\n",
    "# Find gradient for next step for backpropagation: gradient to update weights between hidden and input layer\n",
    "gradient_InputToHidden = np.dot(W_1.T, pred_errors)\n",
    "print(f'Shape of first weights {W_1.shape}')\n",
    "\n",
    "# Next propagation backwards: derivative of the hidden layer output wrt the hidden layer input (ReLU derivative)\n",
    "gradient_InputToHidden = gradient_InputToHidden * ReLU_derivative(Z_hidden)\n",
    "print(f'Shape of gradient vector {gradient_InputToHidden.shape}')\n",
    "\n",
    "# Derivate of the hidden layer input wrt to the weight matrix connecting the hidden layer to inputs X\n",
    "gradient_InputToHidden = np.dot(gradient_InputToHidden, np.transpose(X))\n",
    "print(f'Shape of input {X.shape}')\n",
    "\n",
    "# Last update: output layer biases\n",
    "gradient_InputToHidden_bias = np.dot(W_1.T, pred_errors) * ReLU_derivative(Z_hidden)"
   ]
  },
  {
   "cell_type": "markdown",
   "metadata": {},
   "source": [
    "## Moving towards a minimum\n",
    "We could update all weights by trying to take a large step down the gradient. However, since there are so many combinations of weights and biases, this just reach one local minimum of many. Keep in mind that it may overshoot the local minimum. It could also be that there is a lower local minimum that we cannot yet identify. If we take smaller steps down the gradient, update weights/biases, make a prediction again with these new values and recalculate the gradient, we may find a steeper path which indicates the existence of a lower minimum. This step size is called a learning rate. This slow and iterative way of updating weights is called gradient descent."
   ]
  },
  {
   "cell_type": "markdown",
   "metadata": {},
   "source": [
    "Below are a few graphics. The one on the left shows the example of trying to fit a curve to points. The figure on the right is a depiction of slowly moving down a error surface to find a minimum."
   ]
  },
  {
   "cell_type": "code",
   "execution_count": 14,
   "metadata": {},
   "outputs": [
    {
     "data": {
      "text/html": [
       "<iframe src=\"https://giphy.com/embed/8tvzvXhB3wcmI\" width=\"1000\" height=\"400\" frameBorder=\"0\" class=\"giphy-embed\" allowFullScreen></iframe>\n",
       "<p><a href=\"https://giphy.com/gifs/deep-learning-8tvzvXhB3wcmI\">via GIPHY</a></p>\n"
      ],
      "text/plain": [
       "<IPython.core.display.HTML object>"
      ]
     },
     "metadata": {},
     "output_type": "display_data"
    }
   ],
   "source": [
    "%%html\n",
    "<iframe src=\"https://giphy.com/embed/8tvzvXhB3wcmI\" width=\"1000\" height=\"400\" frameBorder=\"0\" class=\"giphy-embed\" allowFullScreen></iframe>\n",
    "<p><a href=\"https://giphy.com/gifs/deep-learning-8tvzvXhB3wcmI\">via GIPHY</a></p>"
   ]
  },
  {
   "cell_type": "markdown",
   "metadata": {},
   "source": [
    "We can come back to our scenario and begin the process of updating our weights based on our $learningRate \\cdot gradient$. The formal equation for updating weights and biases looks like this:\n",
    "$$ w_j' = w_j - lr \\cdot \\frac{\\partial MSE }{\\partial w_j} $$"
   ]
  },
  {
   "cell_type": "code",
   "execution_count": 15,
   "metadata": {},
   "outputs": [],
   "source": [
    "# Gradient descent step\n",
    "learningRate = 0.001  # define some learning rate\n",
    "\n",
    "# Update weights between hidden and output layer (furthest back)\n",
    "W_1 -= learningRate * gradient_HiddenToOutput\n",
    "# Update bias in output layer\n",
    "B_1 -= learningRate * gradient_HiddenToOutput_bias\n",
    "# Update weights between input and hidden layer (furthest forward)\n",
    "W_0 -= learningRate * gradient_InputToHidden\n",
    "# Update bias in hidden layer\n",
    "B_0 -= learningRate * gradient_InputToHidden_bias"
   ]
  },
  {
   "cell_type": "markdown",
   "metadata": {},
   "source": [
    "## One solver for gradient descent: SGD\n",
    "As you can imagine, the number of computations for this process can be quite large. It requires one derivative per observation per parameter per step! Stochastic gradient descent (SGD) is one way to greatly simplify this task. This method picks samples randomly and only calculates their derivatives for optimization. By the strictest definition, SGD picks one sample per optimization step, but **it is common to optimize with batches of observations**. This could lead to a more stable path to a local minimum as we average the gradient to the minimum. In the code below, we will select a new variable batch_size, which will randomly select samples to optimize parameters."
   ]
  },
  {
   "cell_type": "markdown",
   "metadata": {},
   "source": [
    "## Stopping rules\n",
    "What if we find the program is going through too many iterations with little improvement? We need to set a stopping rule to decide when the program should end. There are two very commonly chosen options: specifying a maximum number of epochs (= iterations) allowed or specifying a maximum allowed number of epochs without improvement in the accuracy of the validation set."
   ]
  },
  {
   "cell_type": "code",
   "execution_count": 16,
   "metadata": {},
   "outputs": [],
   "source": [
    "learningRate = 0.0001\n",
    "epochs = 250  # stopping rule, how many corrective iterations we will allow\n",
    "batch_size = 250\n",
    "\n",
    "input_dim = XX.shape[1]  # number of variables\n",
    "output_dim = 1  # should be equal to 1 since we are only finding the predicted value for 1 regression"
   ]
  },
  {
   "cell_type": "code",
   "execution_count": 17,
   "metadata": {},
   "outputs": [
    {
     "name": "stdout",
     "output_type": "stream",
     "text": [
      "Epoch 1 with average error of 3876.33.\n",
      "Epoch 2 with average error of 3876.22.\n",
      "Epoch 3 with average error of 3876.12.\n",
      "Epoch 4 with average error of 3876.00.\n",
      "Epoch 5 with average error of 3875.88.\n",
      "Epoch 6 with average error of 3875.79.\n",
      "Epoch 7 with average error of 3875.71.\n",
      "Epoch 8 with average error of 3875.60.\n",
      "Epoch 9 with average error of 3875.49.\n",
      "Epoch 10 with average error of 3875.42.\n",
      "Epoch 11 with average error of 3875.37.\n",
      "Epoch 12 with average error of 3875.26.\n",
      "Epoch 13 with average error of 3875.17.\n",
      "Epoch 14 with average error of 3875.10.\n",
      "Epoch 15 with average error of 3875.02.\n",
      "Epoch 16 with average error of 3874.91.\n",
      "Epoch 17 with average error of 3874.83.\n",
      "Epoch 18 with average error of 3874.77.\n",
      "Epoch 19 with average error of 3874.71.\n",
      "Epoch 20 with average error of 3874.66.\n",
      "Epoch 21 with average error of 3874.58.\n",
      "Epoch 22 with average error of 3874.49.\n",
      "Epoch 23 with average error of 3874.47.\n",
      "Epoch 24 with average error of 3874.36.\n",
      "Epoch 25 with average error of 3874.29.\n",
      "Epoch 26 with average error of 3874.22.\n",
      "Epoch 27 with average error of 3874.16.\n",
      "Epoch 28 with average error of 3874.04.\n",
      "Epoch 29 with average error of 3873.95.\n",
      "Epoch 30 with average error of 3873.91.\n",
      "Epoch 31 with average error of 3873.83.\n",
      "Epoch 32 with average error of 3873.74.\n",
      "Epoch 33 with average error of 3873.64.\n",
      "Epoch 34 with average error of 3873.55.\n",
      "Epoch 35 with average error of 3873.39.\n",
      "Epoch 36 with average error of 3873.32.\n",
      "Epoch 37 with average error of 3873.26.\n",
      "Epoch 38 with average error of 3873.15.\n",
      "Epoch 39 with average error of 3873.05.\n",
      "Epoch 40 with average error of 3872.95.\n",
      "Epoch 41 with average error of 3872.88.\n",
      "Epoch 42 with average error of 3872.75.\n",
      "Epoch 43 with average error of 3872.64.\n",
      "Epoch 44 with average error of 3872.56.\n",
      "Epoch 45 with average error of 3872.46.\n",
      "Epoch 46 with average error of 3872.37.\n",
      "Epoch 47 with average error of 3872.29.\n",
      "Epoch 48 with average error of 3872.20.\n",
      "Epoch 49 with average error of 3872.14.\n",
      "Epoch 50 with average error of 3872.06.\n",
      "Epoch 51 with average error of 3871.97.\n",
      "Epoch 52 with average error of 3871.91.\n",
      "Epoch 53 with average error of 3871.81.\n",
      "Epoch 54 with average error of 3871.73.\n",
      "Epoch 55 with average error of 3871.66.\n",
      "Epoch 56 with average error of 3871.61.\n",
      "Epoch 57 with average error of 3871.51.\n",
      "Epoch 58 with average error of 3871.41.\n",
      "Epoch 59 with average error of 3871.30.\n",
      "Epoch 60 with average error of 3871.22.\n",
      "Epoch 61 with average error of 3871.14.\n",
      "Epoch 62 with average error of 3871.02.\n",
      "Epoch 63 with average error of 3870.91.\n",
      "Epoch 64 with average error of 3870.86.\n",
      "Epoch 65 with average error of 3870.78.\n",
      "Epoch 66 with average error of 3870.73.\n",
      "Epoch 67 with average error of 3870.63.\n",
      "Epoch 68 with average error of 3870.57.\n",
      "Epoch 69 with average error of 3870.51.\n",
      "Epoch 70 with average error of 3870.41.\n",
      "Epoch 71 with average error of 3870.28.\n",
      "Epoch 72 with average error of 3870.22.\n",
      "Epoch 73 with average error of 3870.16.\n",
      "Epoch 74 with average error of 3870.10.\n",
      "Epoch 75 with average error of 3870.03.\n",
      "Epoch 76 with average error of 3870.00.\n",
      "Epoch 77 with average error of 3869.94.\n",
      "Epoch 78 with average error of 3869.86.\n",
      "Epoch 79 with average error of 3869.80.\n",
      "Epoch 80 with average error of 3869.72.\n",
      "Epoch 81 with average error of 3869.66.\n",
      "Epoch 82 with average error of 3869.51.\n",
      "Epoch 83 with average error of 3869.42.\n",
      "Epoch 84 with average error of 3869.39.\n",
      "Epoch 85 with average error of 3869.31.\n",
      "Epoch 86 with average error of 3869.23.\n",
      "Epoch 87 with average error of 3869.16.\n",
      "Epoch 88 with average error of 3869.11.\n",
      "Epoch 89 with average error of 3869.06.\n",
      "Epoch 90 with average error of 3868.96.\n",
      "Epoch 91 with average error of 3868.84.\n",
      "Epoch 92 with average error of 3868.82.\n",
      "Epoch 93 with average error of 3868.73.\n",
      "Epoch 94 with average error of 3868.67.\n",
      "Epoch 95 with average error of 3868.57.\n",
      "Epoch 96 with average error of 3868.51.\n",
      "Epoch 97 with average error of 3868.40.\n",
      "Epoch 98 with average error of 3868.31.\n",
      "Epoch 99 with average error of 3868.23.\n",
      "Epoch 100 with average error of 3868.16.\n",
      "Epoch 101 with average error of 3868.08.\n",
      "Epoch 102 with average error of 3867.98.\n",
      "Epoch 103 with average error of 3867.92.\n",
      "Epoch 104 with average error of 3867.85.\n",
      "Epoch 105 with average error of 3867.79.\n",
      "Epoch 106 with average error of 3867.67.\n",
      "Epoch 107 with average error of 3867.54.\n",
      "Epoch 108 with average error of 3867.46.\n",
      "Epoch 109 with average error of 3867.42.\n",
      "Epoch 110 with average error of 3867.33.\n",
      "Epoch 111 with average error of 3867.28.\n",
      "Epoch 112 with average error of 3867.23.\n",
      "Epoch 113 with average error of 3867.15.\n",
      "Epoch 114 with average error of 3867.08.\n",
      "Epoch 115 with average error of 3867.03.\n",
      "Epoch 116 with average error of 3866.92.\n",
      "Epoch 117 with average error of 3866.90.\n",
      "Epoch 118 with average error of 3866.89.\n",
      "Epoch 119 with average error of 3866.83.\n",
      "Epoch 120 with average error of 3866.76.\n",
      "Epoch 121 with average error of 3866.68.\n",
      "Epoch 122 with average error of 3866.64.\n",
      "Epoch 123 with average error of 3866.62.\n",
      "Epoch 124 with average error of 3866.57.\n",
      "Epoch 125 with average error of 3866.50.\n",
      "Epoch 126 with average error of 3866.48.\n",
      "Epoch 127 with average error of 3866.41.\n",
      "Epoch 128 with average error of 3866.32.\n",
      "Epoch 129 with average error of 3866.24.\n",
      "Epoch 130 with average error of 3866.14.\n",
      "Epoch 131 with average error of 3866.08.\n",
      "Epoch 132 with average error of 3866.08.\n",
      "Epoch 133 with average error of 3866.02.\n",
      "Epoch 134 with average error of 3865.98.\n",
      "Epoch 135 with average error of 3865.95.\n",
      "Epoch 136 with average error of 3865.91.\n",
      "Epoch 137 with average error of 3865.84.\n",
      "Epoch 138 with average error of 3865.83.\n",
      "Epoch 139 with average error of 3865.76.\n",
      "Epoch 140 with average error of 3865.70.\n",
      "Epoch 141 with average error of 3865.63.\n",
      "Epoch 142 with average error of 3865.59.\n",
      "Epoch 143 with average error of 3865.55.\n",
      "Epoch 144 with average error of 3865.49.\n",
      "Epoch 145 with average error of 3865.45.\n",
      "Epoch 146 with average error of 3865.43.\n",
      "Epoch 147 with average error of 3865.39.\n",
      "Epoch 148 with average error of 3865.32.\n",
      "Epoch 149 with average error of 3865.27.\n",
      "Epoch 150 with average error of 3865.22.\n",
      "Epoch 151 with average error of 3865.17.\n",
      "Epoch 152 with average error of 3865.12.\n",
      "Epoch 153 with average error of 3865.07.\n",
      "Epoch 154 with average error of 3865.06.\n",
      "Epoch 155 with average error of 3865.01.\n",
      "Epoch 156 with average error of 3864.93.\n",
      "Epoch 157 with average error of 3864.93.\n",
      "Epoch 158 with average error of 3864.92.\n",
      "Epoch 159 with average error of 3864.87.\n",
      "Epoch 160 with average error of 3864.81.\n",
      "Epoch 161 with average error of 3864.75.\n",
      "Epoch 162 with average error of 3864.69.\n",
      "Epoch 163 with average error of 3864.63.\n",
      "Epoch 164 with average error of 3864.64.\n",
      "Epoch 165 with average error of 3864.61.\n",
      "Epoch 166 with average error of 3864.54.\n",
      "Epoch 167 with average error of 3864.51.\n",
      "Epoch 168 with average error of 3864.43.\n",
      "Epoch 169 with average error of 3864.39.\n",
      "Epoch 170 with average error of 3864.42.\n",
      "Epoch 171 with average error of 3864.41.\n",
      "Epoch 172 with average error of 3864.33.\n",
      "Epoch 173 with average error of 3864.24.\n",
      "Epoch 174 with average error of 3864.15.\n",
      "Epoch 175 with average error of 3864.06.\n",
      "Epoch 176 with average error of 3863.99.\n",
      "Epoch 177 with average error of 3863.96.\n",
      "Epoch 178 with average error of 3863.97.\n",
      "Epoch 179 with average error of 3863.89.\n",
      "Epoch 180 with average error of 3863.85.\n",
      "Epoch 181 with average error of 3863.78.\n",
      "Epoch 182 with average error of 3863.74.\n",
      "Epoch 183 with average error of 3863.73.\n",
      "Epoch 184 with average error of 3863.74.\n",
      "Epoch 185 with average error of 3863.63.\n",
      "Epoch 186 with average error of 3863.59.\n",
      "Epoch 187 with average error of 3863.58.\n",
      "Epoch 188 with average error of 3863.51.\n",
      "Epoch 189 with average error of 3863.47.\n",
      "Epoch 190 with average error of 3863.43.\n",
      "Epoch 191 with average error of 3863.48.\n",
      "Epoch 192 with average error of 3863.41.\n",
      "Epoch 193 with average error of 3863.40.\n",
      "Epoch 194 with average error of 3863.43.\n",
      "Epoch 195 with average error of 3863.48.\n",
      "Epoch 196 with average error of 3863.42.\n",
      "Epoch 197 with average error of 3863.36.\n",
      "Epoch 198 with average error of 3863.45.\n",
      "Epoch 199 with average error of 3863.41.\n",
      "Epoch 200 with average error of 3863.34.\n",
      "Epoch 201 with average error of 3863.24.\n",
      "Epoch 202 with average error of 3863.23.\n",
      "Epoch 203 with average error of 3863.33.\n",
      "Epoch 204 with average error of 3863.36.\n",
      "Epoch 205 with average error of 3863.49.\n",
      "Epoch 206 with average error of 3863.50.\n",
      "Epoch 207 with average error of 3863.46.\n",
      "Epoch 208 with average error of 3863.40.\n",
      "Epoch 209 with average error of 3863.35.\n",
      "Epoch 210 with average error of 3863.38.\n",
      "Epoch 211 with average error of 3863.45.\n",
      "Epoch 212 with average error of 3863.35.\n",
      "Epoch 213 with average error of 3863.42.\n",
      "Epoch 214 with average error of 3863.32.\n",
      "Epoch 215 with average error of 3863.34.\n",
      "Epoch 216 with average error of 3863.25.\n",
      "Epoch 217 with average error of 3863.25.\n",
      "Epoch 218 with average error of 3863.29.\n",
      "Epoch 219 with average error of 3863.38.\n",
      "Epoch 220 with average error of 3863.40.\n",
      "Epoch 221 with average error of 3863.35.\n",
      "Epoch 222 with average error of 3863.37.\n",
      "Epoch 223 with average error of 3863.29.\n",
      "Epoch 224 with average error of 3863.26.\n",
      "Epoch 225 with average error of 3863.21.\n",
      "Epoch 226 with average error of 3863.21.\n",
      "Epoch 227 with average error of 3863.20.\n",
      "Epoch 228 with average error of 3863.22.\n",
      "Epoch 229 with average error of 3863.29.\n",
      "Epoch 230 with average error of 3863.30.\n",
      "Epoch 231 with average error of 3863.23.\n",
      "Epoch 232 with average error of 3863.30.\n",
      "Epoch 233 with average error of 3863.35.\n",
      "Epoch 234 with average error of 3863.34.\n",
      "Epoch 235 with average error of 3863.36.\n",
      "Epoch 236 with average error of 3863.44.\n",
      "Epoch 237 with average error of 3863.40.\n",
      "Epoch 238 with average error of 3863.46.\n",
      "Epoch 239 with average error of 3863.35.\n",
      "Epoch 240 with average error of 3863.40.\n",
      "Epoch 241 with average error of 3863.38.\n",
      "Epoch 242 with average error of 3863.47.\n",
      "Epoch 243 with average error of 3863.55.\n",
      "Epoch 244 with average error of 3863.54.\n",
      "Epoch 245 with average error of 3863.65.\n",
      "Epoch 246 with average error of 3863.66.\n",
      "Epoch 247 with average error of 3863.86.\n",
      "Epoch 248 with average error of 3863.95.\n",
      "Epoch 249 with average error of 3863.91.\n",
      "Epoch 250 with average error of 3863.90.\n"
     ]
    }
   ],
   "source": [
    "iteration = 0\n",
    "\n",
    "loss_log = []\n",
    "\n",
    "while iteration < epochs:\n",
    "\n",
    "    # Process one batch of random observations per epoch/iteration\n",
    "    random_batch = random.sample(range(0, XX.shape[0]), batch_size)  # choose observations for random batch\n",
    "    \n",
    "    HiddenToOutput_gradient_list = [] # to store the gradients based on each observation in batch\n",
    "    InputToHidden_gradient_list = []\n",
    "\n",
    "    # Update weights and biases one at a time with each random observation's error (all steps before, just in a loop together)\n",
    "    for obs in random_batch:\n",
    "\n",
    "        # Select feature values and target value for random observation\n",
    "        X = np.array(XX[obs]).reshape((input_dim, 1))\n",
    "        y = Y[obs].reshape((1, 1))\n",
    "\n",
    "        # Compute the forward pass through the network all the way up to the final output\n",
    "        Z_hidden = np.dot(W_0, X) + B_0\n",
    "        H = ReLU(Z_hidden)\n",
    "        Z_output = np.dot(W_1, H) + B_1\n",
    "        y_hat = Z_output  # prediction from first iteration\n",
    "\n",
    "        # Gradient for the weights between hidden and output layers\n",
    "        gradient_HiddenToOutput = mse_derivative(Y[obs], y_hat, XX[obs]) * 1 # linear activation derivative is 1\n",
    "        pred_errors = gradient_HiddenToOutput\n",
    "\n",
    "        # Gradient for the weights between input and hidden layers\n",
    "        gradient_InputToHidden = np.dot(W_1.T, pred_errors) * ReLU_derivative(Z_hidden)\n",
    "        \n",
    "        HiddenToOutput_gradient_list.append(gradient_HiddenToOutput)\n",
    "        InputToHidden_gradient_list.append(gradient_InputToHidden)\n",
    "\n",
    "    mean_gradient_HiddenToOutput = np.mean(HiddenToOutput_gradient_list, axis=0) # average optimal movemnt over batch\n",
    "    mean_gradient_InputToHidden = np.mean(InputToHidden_gradient_list, axis=0)\n",
    "    \n",
    "    # Update biases according to learning rate and gradient\n",
    "    B_1 -= learningRate * mean_gradient_HiddenToOutput\n",
    "    B_0 -= learningRate * mean_gradient_InputToHidden\n",
    "\n",
    "    # Update weights according to learning rate and gradient\n",
    "    W_1 -= learningRate * np.dot(mean_gradient_HiddenToOutput, np.transpose(Z_hidden))\n",
    "    W_0 -= learningRate * np.dot(mean_gradient_InputToHidden, np.transpose(X))\n",
    "\n",
    "    # Check how well the model does on all observations by passing them through a forward pass with most up to date weights\n",
    "    XX_reshaped = np.array(XX).reshape((inputLayer_size, n))  # all observations\n",
    "    Y_reshaped = Y.reshape((outputLayer_size, n))\n",
    "    Z_hidden = np.dot(W_0, XX_reshaped) + B_0  # first hidden layer inputs\n",
    "    H = ReLU(Z_hidden)  # hidden layer output (after activation)\n",
    "    Z_output = np.dot(W_1, H) + B_1  # input to output layer\n",
    "    Y_hat = Z_output\n",
    "    \n",
    "    # Calculate loss for entire model\n",
    "    iteration_loss_square = mse(Y_reshaped, Y_hat)\n",
    "    iteration_loss = math.sqrt(iteration_loss_square)\n",
    "    loss_log.append(iteration_loss)\n",
    "\n",
    "    # Development of the loss as average over observation-level losses\n",
    "    print(f'Epoch {iteration+1} with average error of {iteration_loss:.2f}.')\n",
    "    iteration += 1"
   ]
  },
  {
   "cell_type": "code",
   "execution_count": 18,
   "metadata": {},
   "outputs": [
    {
     "data": {
      "image/png": "[encoded data removed]",
      "text/plain": [
       "<Figure size 432x288 with 1 Axes>"
      ]
     },
     "metadata": {
      "needs_background": "light"
     },
     "output_type": "display_data"
    }
   ],
   "source": [
    "# Plot losses\n",
    "plt.plot(loss_log)\n",
    "plt.title(\"Loss over Iterations of NN\")\n",
    "plt.xlabel(\"Iteration Number\")\n",
    "plt.ylabel(\"Loss\")\n",
    "plt.show()"
   ]
  },
  {
   "cell_type": "markdown",
   "metadata": {},
   "source": [
    "Look at that! As the epochs continue, we can see iterations show improvement in errors for the network. Important questions:\n",
    "- What could prevent the error from continuously falling?\n",
    "- What are some other good ideas for stopping rules for our algorithm? Or, how can we manipulate the learning rate?\n",
    "- Instead of looking at average loss per batch, could you think of a better way to measure model performance?"
   ]
  },
  {
   "cell_type": "markdown",
   "metadata": {},
   "source": [
    "## Overview of back propagation\n",
    "So, after setting up the neural network, we need to:\n",
    "- Calculate loss from the forward pass\n",
    "- Calculate the gradient of random observations (SGD)\n",
    "- Update weights by moving down the gradient with a step size specified by your learning rate\n",
    "- Make new predictions with the new weights\n",
    "- Repeat the these steps until you reach a stopping rule"
   ]
  }
 ],
 "metadata": {
  "kernelspec": {
   "display_name": "Python 3",
   "language": "python",
   "name": "python3"
  },
  "language_info": {
   "codemirror_mode": {
    "name": "ipython",
    "version": 3
   },
   "file_extension": ".py",
   "mimetype": "text/x-python",
   "name": "python",
   "nbconvert_exporter": "python",
   "pygments_lexer": "ipython3",
   "version": "3.8.13"
  }
 },
 "nbformat": 4,
 "nbformat_minor": 4
}
